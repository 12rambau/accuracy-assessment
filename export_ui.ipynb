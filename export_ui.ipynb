{
 "cells": [
  {
   "cell_type": "code",
   "execution_count": null,
   "metadata": {},
   "outputs": [],
   "source": [
    "from component import io \n",
    "from component import tile"
   ]
  },
  {
   "cell_type": "code",
   "execution_count": null,
   "metadata": {},
   "outputs": [],
   "source": [
    "export_io = io.ExportIo()"
   ]
  },
  {
   "cell_type": "code",
   "execution_count": null,
   "metadata": {},
   "outputs": [],
   "source": [
    "# for debug\n",
    "#import pandas as pd \n",
    "#import geopandas as gpd\n",
    "#from component import parameter as cp\n",
    "#\n",
    "#tb_io = io.TableIo()\n",
    "#tb_io.json_table = '{\"pathname\": \"/home/prambaud/modules/clip-time-series/utils/clip_test_points.csv\", \"id_column\": \"id\", \"lat_column\": \"Y\", \"lng_column\": \"X\"}'\n",
    "#\n",
    "#df = pd.read_csv(cp.test_dataset, sep=None, engine='python')\n",
    "#df = df.filter(items=[\"Y\", \"X\", \"id\"])\n",
    "#df = df.rename(columns={\"Y\": 'lat', \"X\": 'lng', \"id\": 'id'})\n",
    "#gdf = gpd.GeoDataFrame(df, geometry=gpd.points_from_xy(df.lng, df.lat), crs='EPSG:4326')\n",
    "#tb_io.pts = gdf \n",
    "#\n",
    "#viz_io = io.VizIo()\n",
    "#viz_io.check = True\n",
    "#viz_io.sources = ['landsat']\n",
    "#\n",
    "#viz_io.bands = 'Red, Green, Blue'\n",
    "#viz_io.start_year =  2013\n",
    "#viz_io.end_year = 2019\n",
    "#viz_io.square_size = 2000"
   ]
  },
  {
   "cell_type": "code",
   "execution_count": null,
   "metadata": {},
   "outputs": [],
   "source": [
    "#result tile \n",
    "export_results = tile.ExportResult()"
   ]
  },
  {
   "cell_type": "code",
   "execution_count": null,
   "metadata": {},
   "outputs": [],
   "source": [
    "#export data\n",
    "export_tile = tile.ExportData(export_io, viz_io, tb_io, export_results)"
   ]
  },
  {
   "cell_type": "code",
   "execution_count": null,
   "metadata": {},
   "outputs": [],
   "source": [
    "export_tile"
   ]
  },
  {
   "cell_type": "code",
   "execution_count": null,
   "metadata": {},
   "outputs": [],
   "source": [
    "export_results"
   ]
  },
  {
   "cell_type": "code",
   "execution_count": null,
   "metadata": {},
   "outputs": [],
   "source": []
  }
 ],
 "metadata": {
  "kernelspec": {
   "display_name": "Python 3",
   "language": "python",
   "name": "python3"
  },
  "language_info": {
   "codemirror_mode": {
    "name": "ipython",
    "version": 3
   },
   "file_extension": ".py",
   "mimetype": "text/x-python",
   "name": "python",
   "nbconvert_exporter": "python",
   "pygments_lexer": "ipython3",
   "version": "3.6.9"
  }
 },
 "nbformat": 4,
 "nbformat_minor": 4
}
