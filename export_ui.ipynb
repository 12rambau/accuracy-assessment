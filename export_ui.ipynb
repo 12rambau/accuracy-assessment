{
 "cells": [
  {
   "cell_type": "code",
   "execution_count": 1,
   "metadata": {},
   "outputs": [
    {
     "data": {
      "application/vnd.jupyter.widget-view+json": {
       "model_id": "65005f6584a1406e908954f3c217a023",
       "version_major": 2,
       "version_minor": 0
      },
      "text/plain": [
       "Styles()"
      ]
     },
     "metadata": {},
     "output_type": "display_data"
    },
    {
     "data": {
      "application/vnd.jupyter.widget-view+json": {
       "model_id": "c990c33c819e4b0f9e473b441ab3c8e7",
       "version_major": 2,
       "version_minor": 0
      },
      "text/plain": [
       "ResizeTrigger()"
      ]
     },
     "metadata": {},
     "output_type": "display_data"
    }
   ],
   "source": [
    "from component import io \n",
    "from component import tile"
   ]
  },
  {
   "cell_type": "code",
   "execution_count": 2,
   "metadata": {},
   "outputs": [],
   "source": [
    "export_io = io.ExportIo()"
   ]
  },
  {
   "cell_type": "code",
   "execution_count": 3,
   "metadata": {},
   "outputs": [],
   "source": [
    "# for debug\n",
    "import pandas as pd \n",
    "import geopandas as gpd\n",
    "from component import parameter as cp\n",
    "\n",
    "tb_io = io.TableIo()\n",
    "tb_io.json_table = '{\"pathname\": \"/home/prambaud/modules/clip-time-series/utils/clip_test_points.csv\", \"id_column\": \"id\", \"lat_column\": \"Y\", \"lng_column\": \"X\"}'\n",
    "\n",
    "df = pd.read_csv(cp.test_dataset, sep=None, engine='python')\n",
    "gdf = gpd.GeoDataFrame(df, geometry=gpd.points_from_xy(df.lng, df.lat), crs='EPSG:4326')\n",
    "tb_io.pts = gdf \n",
    "\n",
    "viz_io = io.VizIo()\n",
    "viz_io.check = True\n",
    "viz_io.sources = ['landsat']\n",
    "\n",
    "viz_io.bands = 'Red, Green, Blue'\n",
    "viz_io.start_year =  2013\n",
    "viz_io.end_year = 2019\n",
    "viz_io.square_size = 2000"
   ]
  },
  {
   "cell_type": "code",
   "execution_count": 4,
   "metadata": {},
   "outputs": [],
   "source": [
    "#result tile \n",
    "export_results = tile.ExportResult()"
   ]
  },
  {
   "cell_type": "code",
   "execution_count": 5,
   "metadata": {},
   "outputs": [],
   "source": [
    "#export data\n",
    "export_tile = tile.ExportData(export_io, viz_io, tb_io, export_results)"
   ]
  },
  {
   "cell_type": "code",
   "execution_count": 6,
   "metadata": {},
   "outputs": [
    {
     "data": {
      "application/vnd.jupyter.widget-view+json": {
       "model_id": "811fdba203634490bea0f7123ef440e3",
       "version_major": 2,
       "version_minor": 0
      },
      "text/plain": [
       "ExportData(align_center=True, children=[Card(children=[Html(children=['Export data'], tag='h2'), Flex(children…"
      ]
     },
     "metadata": {},
     "output_type": "display_data"
    }
   ],
   "source": [
    "export_tile"
   ]
  },
  {
   "cell_type": "code",
   "execution_count": 7,
   "metadata": {},
   "outputs": [
    {
     "data": {
      "application/vnd.jupyter.widget-view+json": {
       "model_id": "2d8b9be3c8cb4f38b9d39b2794baa81b",
       "version_major": 2,
       "version_minor": 0
      },
      "text/plain": [
       "ExportResult(align_center=True, children=[Card(children=[Html(children=['Export results'], tag='h2'), Flex(chi…"
      ]
     },
     "metadata": {},
     "output_type": "display_data"
    }
   ],
   "source": [
    "export_results"
   ]
  },
  {
   "cell_type": "code",
   "execution_count": null,
   "metadata": {},
   "outputs": [],
   "source": []
  }
 ],
 "metadata": {
  "kernelspec": {
   "display_name": "Python 3",
   "language": "python",
   "name": "python3"
  },
  "language_info": {
   "codemirror_mode": {
    "name": "ipython",
    "version": 3
   },
   "file_extension": ".py",
   "mimetype": "text/x-python",
   "name": "python",
   "nbconvert_exporter": "python",
   "pygments_lexer": "ipython3",
   "version": "3.6.9"
  }
 },
 "nbformat": 4,
 "nbformat_minor": 4
}
