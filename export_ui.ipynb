{
 "cells": [
  {
   "cell_type": "code",
   "execution_count": 1,
   "metadata": {},
   "outputs": [],
   "source": [
    "from sepal_ui import widgetFactory as wf\n",
    "from sepal_ui import widgetBinding as wb\n",
    "from sepal_ui.scripts import utils as su\n",
    "\n",
    "from utils import messages as ms\n",
    "import ipyvuetify as v\n",
    "from functools import partial\n",
    "from scripts import export\n",
    "from sepal_ui.scripts import mapping\n",
    "import os"
   ]
  },
  {
   "cell_type": "code",
   "execution_count": 2,
   "metadata": {},
   "outputs": [],
   "source": [
    "#mutable object \n",
    "class Export_io:\n",
    "    def __init__(self):\n",
    "        #input\n",
    "        self.vue = None\n",
    "        \n",
    "export_io = Export_io()"
   ]
  },
  {
   "cell_type": "code",
   "execution_count": 3,
   "metadata": {},
   "outputs": [],
   "source": [
    "#validation of inputs\n",
    "export_valid_output = wf.OutputWidget(ms.VALID_DATA)\n",
    "export_valid_btn = wf.ProcessBtn(ms.VALID_BTN)\n",
    "id_ = 'export_widget'\n",
    "title = \"Validate the input data\"\n",
    "\n",
    "export_valid = wf.Tile(\n",
    "    id_, \n",
    "    title, \n",
    "    inputs = [''], \n",
    "    btn=export_valid_btn, \n",
    "    output=export_valid_output\n",
    ")"
   ]
  },
  {
   "cell_type": "code",
   "execution_count": 4,
   "metadata": {},
   "outputs": [],
   "source": [
    "#result tile \n",
    "title=\"Export results\"\n",
    "\n",
    "export_results = wf.Tile(id_, title, inputs=[''])"
   ]
  },
  {
   "cell_type": "code",
   "execution_count": 5,
   "metadata": {},
   "outputs": [],
   "source": [
    "#export data\n",
    "export_output = wf.OutputWidget(ms.EXPORT_INTRO)\n",
    "export_btn = wf.ProcessBtn(ms.EXPORT_BTN)\n",
    "title = \"Export data\"\n",
    "\n",
    "export_tile = wf.Tile(\n",
    "    id_, \n",
    "    title, \n",
    "    btn=export_btn, \n",
    "    output=export_output,\n",
    "    inputs=['']\n",
    ")"
   ]
  },
  {
   "cell_type": "code",
   "execution_count": 6,
   "metadata": {},
   "outputs": [],
   "source": [
    "#only useful for debug \n",
    "import pandas as pd"
   ]
  },
  {
   "cell_type": "code",
   "execution_count": 7,
   "metadata": {},
   "outputs": [],
   "source": [
    "#force the user to check tu data h's about to export \n",
    "def validate_data(widget, event, data, output):\n",
    "    \n",
    "    #toggle the loading button\n",
    "    su.toggleLoading(widget)\n",
    "    \n",
    "    #load the input \n",
    "    #file = os.path.expanduser('~') + '/test_pts.txt'\n",
    "    #file = os.path.expanduser('~') + '/sample_csvPilot.txt'\n",
    "    file = os.path.expanduser('~') + '/sample_csvPilot_header.txt'\n",
    "    pts = pd.read_csv(file)\n",
    "    pts = pts.rename(columns={'LAT': 'lat', 'LON': 'lng', 'PLOTID': 'id'})\n",
    "    \n",
    "    #bands = 'Red, Green, Blue'\n",
    "    #bands = 'Nir, Red, Green'\n",
    "    bands = 'Nir, Swir1, Red'\n",
    "    sources = ['landsat']\n",
    "    #file = getattr(tb_io, 'file')\n",
    "    #bands = getattr(viz_io, 'bands')\n",
    "    #sources = getattr(viz_io, 'sources')\n",
    "    \n",
    "    #check input\n",
    "    if not wb.checkInput(file, output, ms.MISSING_IN): return su.toggleLoading(widget)\n",
    "    if not wb.checkInput(bands, output, ms.MISSING_IN): return su.toggleLoading(widget)\n",
    "    if not wb.checkInput(sources, output, ms.MISSING_IN): return su.toggleLoading(widget)\n",
    "    \n",
    "    msg = ms.EXPORT_INPUTS.format(file, ' & '.join(sources), bands)\n",
    "    \n",
    "    su.displayIO(output, msg, 'success')\n",
    "    \n",
    "    #change attribute \n",
    "    setattr(export_io, 'vue', True)\n",
    "    \n",
    "    #toggle the loading button\n",
    "    su.toggleLoading(widget)\n",
    "    \n",
    "    return \n",
    "\n",
    "export_valid_btn.on_event('click', partial(\n",
    "    validate_data,\n",
    "    output=export_valid_output\n",
    "))\n",
    "    "
   ]
  },
  {
   "cell_type": "code",
   "execution_count": 8,
   "metadata": {},
   "outputs": [],
   "source": [
    "from scripts import export\n",
    "\n",
    "#export data \n",
    "def start_process(widget, event, data, output, result):\n",
    "    \n",
    "    #toggle the loading button\n",
    "    su.toggleLoading(widget)\n",
    "     \n",
    "    #load the input \n",
    "    #file = os.path.expanduser('~') + '/test_pts.txt'\n",
    "    #file = os.path.expanduser('~') + '/sample_csvPilot.txt'\n",
    "    file = os.path.expanduser('~') + '/sample_csvPilot_header.txt'\n",
    "    pts = pd.read_csv(file)\n",
    "    pts = pts.rename(columns={'LAT': 'lat', 'LON': 'lng', 'PLOTID': 'id'})\n",
    "    \n",
    "    #bands = 'Red, Green, Blue'\n",
    "    #bands = 'Nir, Red, Green'\n",
    "    bands = 'Nir, Swir1, Red'\n",
    "    sources = ['landsat']\n",
    "    #file = getattr(tb_io, 'file')\n",
    "    #bands = getattr(viz_io, 'bands')\n",
    "    #sources = getattr(viz_io, 'sources')\n",
    "    \n",
    "    #check the validation \n",
    "    valid = getattr(export_io, 'vue')\n",
    "    \n",
    "    #check only validation \n",
    "    if not wb.checkInput(valid, output, ms.NO_VALID): return su.toggleLoading(widget)\n",
    "    \n",
    "    #start the exporting process \n",
    "    pdf_file = export.run(file, pts, bands, sources, output)\n",
    "    \n",
    "    #add a download button \n",
    "    dwn = wf.DownloadBtn('PDF time series', path=pdf_file)\n",
    "    result.children[0].children = [result.children[0].children[0], dwn]\n",
    "    \n",
    "    #toggle the loading button\n",
    "    su.toggleLoading(widget)\n",
    "    \n",
    "    return \n",
    "\n",
    "export_btn.on_event('click', partial(\n",
    "    start_process,\n",
    "    output=export_output,\n",
    "    result = export_results\n",
    "))\n",
    "    "
   ]
  },
  {
   "cell_type": "code",
   "execution_count": 9,
   "metadata": {
    "scrolled": true
   },
   "outputs": [
    {
     "data": {
      "application/vnd.jupyter.widget-view+json": {
       "model_id": "284153e4e7a74519947c9bee3e91f0c0",
       "version_major": 2,
       "version_minor": 0
      },
      "text/plain": [
       "Layout(align_center=True, children=[Card(children=[Html(children=['Validate the input data'], tag='h2'), Flex(…"
      ]
     },
     "metadata": {},
     "output_type": "display_data"
    }
   ],
   "source": [
    "export_valid"
   ]
  },
  {
   "cell_type": "code",
   "execution_count": 10,
   "metadata": {
    "scrolled": true
   },
   "outputs": [
    {
     "data": {
      "application/vnd.jupyter.widget-view+json": {
       "model_id": "1889b7f38d914692919fee2ddda16284",
       "version_major": 2,
       "version_minor": 0
      },
      "text/plain": [
       "Layout(align_center=True, children=[Card(children=[Html(children=['Export data'], tag='h2'), Flex(children=[La…"
      ]
     },
     "metadata": {},
     "output_type": "display_data"
    }
   ],
   "source": [
    "export_tile"
   ]
  },
  {
   "cell_type": "code",
   "execution_count": 11,
   "metadata": {},
   "outputs": [
    {
     "data": {
      "application/vnd.jupyter.widget-view+json": {
       "model_id": "eed87f74c0e84460927101c217c45b27",
       "version_major": 2,
       "version_minor": 0
      },
      "text/plain": [
       "Layout(align_center=True, children=[Card(children=[Html(children=['Export results'], tag='h2'), Flex(children=…"
      ]
     },
     "metadata": {},
     "output_type": "display_data"
    }
   ],
   "source": [
    "export_results"
   ]
  },
  {
   "cell_type": "code",
   "execution_count": null,
   "metadata": {},
   "outputs": [],
   "source": []
  }
 ],
 "metadata": {
  "kernelspec": {
   "display_name": "Python 3",
   "language": "python",
   "name": "python3"
  },
  "language_info": {
   "codemirror_mode": {
    "name": "ipython",
    "version": 3
   },
   "file_extension": ".py",
   "mimetype": "text/x-python",
   "name": "python",
   "nbconvert_exporter": "python",
   "pygments_lexer": "ipython3",
   "version": "3.6.9"
  }
 },
 "nbformat": 4,
 "nbformat_minor": 4
}
