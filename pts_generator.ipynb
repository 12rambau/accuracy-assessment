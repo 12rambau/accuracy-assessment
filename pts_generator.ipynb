{
 "cells": [
  {
   "cell_type": "markdown",
   "metadata": {},
   "source": [
    "## generate a fake correct pts text file "
   ]
  },
  {
   "cell_type": "code",
   "execution_count": 1,
   "metadata": {},
   "outputs": [
    {
     "data": {
      "application/vnd.jupyter.widget-view+json": {
       "model_id": "6f3c14b9903d43e39eb1a451d3a50388",
       "version_major": 2,
       "version_minor": 0
      },
      "text/plain": [
       "Map(center=[0, 0], controls=(ZoomControl(options=['position', 'zoom_in_text', 'zoom_in_title', 'zoom_out_text'…"
      ]
     },
     "metadata": {},
     "output_type": "display_data"
    }
   ],
   "source": [
    "import ee \n",
    "import geemap\n",
    "from sepal_ui.scripts import mapping as sepalmap\n",
    "\n",
    "ee.Initialize()\n",
    "\n",
    "Map = sepalmap.init_map()[1]\n",
    "Map"
   ]
  },
  {
   "cell_type": "code",
   "execution_count": 2,
   "metadata": {},
   "outputs": [],
   "source": [
    "#create a false list of points\n",
    "import shapely.geometry as sg \n",
    "from faker import Faker\n",
    "from decimal import Decimal\n",
    "import geopandas\n",
    "\n",
    "Faker.seed(0)\n",
    "fake = Faker()\n",
    "\n",
    "points_nb = 100\n",
    "\n",
    "pts = []\n",
    "for i in range(points_nb):\n",
    "    point = (float(fake.latitude()), float(fake.longitude()))\n",
    "    pts.append(point)\n",
    "\n",
    "markers = []\n",
    "for index, pt in enumerate(pts):\n",
    "    \n",
    "    marker = geemap.Marker(location=pt, draggable=False, title=str(index))\n",
    "    \n",
    "    markers.append(marker)\n",
    "\n",
    "#display on the map\n",
    "marker_cluster = geemap.MarkerCluster(markers=tuple(markers))\n",
    "Map.add_layer(marker_cluster)"
   ]
  },
  {
   "cell_type": "code",
   "execution_count": 3,
   "metadata": {},
   "outputs": [
    {
     "data": {
      "text/html": [
       "<div>\n",
       "<style scoped>\n",
       "    .dataframe tbody tr th:only-of-type {\n",
       "        vertical-align: middle;\n",
       "    }\n",
       "\n",
       "    .dataframe tbody tr th {\n",
       "        vertical-align: top;\n",
       "    }\n",
       "\n",
       "    .dataframe thead th {\n",
       "        text-align: right;\n",
       "    }\n",
       "</style>\n",
       "<table border=\"1\" class=\"dataframe\">\n",
       "  <thead>\n",
       "    <tr style=\"text-align: right;\">\n",
       "      <th></th>\n",
       "      <th>lat</th>\n",
       "      <th>lng</th>\n",
       "    </tr>\n",
       "  </thead>\n",
       "  <tbody>\n",
       "    <tr>\n",
       "      <th>0</th>\n",
       "      <td>13.413500</td>\n",
       "      <td>45.792650</td>\n",
       "    </tr>\n",
       "    <tr>\n",
       "      <th>1</th>\n",
       "      <td>-79.132557</td>\n",
       "      <td>-40.995129</td>\n",
       "    </tr>\n",
       "    <tr>\n",
       "      <th>2</th>\n",
       "      <td>47.244262</td>\n",
       "      <td>80.880444</td>\n",
       "    </tr>\n",
       "    <tr>\n",
       "      <th>3</th>\n",
       "      <td>18.698680</td>\n",
       "      <td>-17.160223</td>\n",
       "    </tr>\n",
       "    <tr>\n",
       "      <th>4</th>\n",
       "      <td>37.935520</td>\n",
       "      <td>12.226293</td>\n",
       "    </tr>\n",
       "    <tr>\n",
       "      <th>...</th>\n",
       "      <td>...</td>\n",
       "      <td>...</td>\n",
       "    </tr>\n",
       "    <tr>\n",
       "      <th>95</th>\n",
       "      <td>62.946078</td>\n",
       "      <td>-89.040858</td>\n",
       "    </tr>\n",
       "    <tr>\n",
       "      <th>96</th>\n",
       "      <td>-35.396287</td>\n",
       "      <td>-148.834139</td>\n",
       "    </tr>\n",
       "    <tr>\n",
       "      <th>97</th>\n",
       "      <td>-47.531194</td>\n",
       "      <td>-93.051569</td>\n",
       "    </tr>\n",
       "    <tr>\n",
       "      <th>98</th>\n",
       "      <td>1.888823</td>\n",
       "      <td>104.259309</td>\n",
       "    </tr>\n",
       "    <tr>\n",
       "      <th>99</th>\n",
       "      <td>-22.706629</td>\n",
       "      <td>-117.071834</td>\n",
       "    </tr>\n",
       "  </tbody>\n",
       "</table>\n",
       "<p>100 rows × 2 columns</p>\n",
       "</div>"
      ],
      "text/plain": [
       "          lat         lng\n",
       "0   13.413500   45.792650\n",
       "1  -79.132557  -40.995129\n",
       "2   47.244262   80.880444\n",
       "3   18.698680  -17.160223\n",
       "4   37.935520   12.226293\n",
       "..        ...         ...\n",
       "95  62.946078  -89.040858\n",
       "96 -35.396287 -148.834139\n",
       "97 -47.531194  -93.051569\n",
       "98   1.888823  104.259309\n",
       "99 -22.706629 -117.071834\n",
       "\n",
       "[100 rows x 2 columns]"
      ]
     },
     "execution_count": 3,
     "metadata": {},
     "output_type": "execute_result"
    }
   ],
   "source": [
    "#transform the points into a file store at the root directory of sepal \n",
    "import os \n",
    "import pandas as pd\n",
    "\n",
    "df = pd.DataFrame([[pt[0], pt[1]] for pt in pts], columns=['lat', 'lng'])\n",
    "root_dir = os.path.expanduser('~')\n",
    "\n",
    "df.to_csv(root_dir + '/test_pts.txt', index=False)\n",
    "df"
   ]
  },
  {
   "cell_type": "code",
   "execution_count": 4,
   "metadata": {},
   "outputs": [
    {
     "data": {
      "text/html": [
       "<div>\n",
       "<style scoped>\n",
       "    .dataframe tbody tr th:only-of-type {\n",
       "        vertical-align: middle;\n",
       "    }\n",
       "\n",
       "    .dataframe tbody tr th {\n",
       "        vertical-align: top;\n",
       "    }\n",
       "\n",
       "    .dataframe thead th {\n",
       "        text-align: right;\n",
       "    }\n",
       "</style>\n",
       "<table border=\"1\" class=\"dataframe\">\n",
       "  <thead>\n",
       "    <tr style=\"text-align: right;\">\n",
       "      <th></th>\n",
       "      <th>lat</th>\n",
       "      <th>lng</th>\n",
       "    </tr>\n",
       "  </thead>\n",
       "  <tbody>\n",
       "    <tr>\n",
       "      <th>0</th>\n",
       "      <td>13.413500</td>\n",
       "      <td>45.792650</td>\n",
       "    </tr>\n",
       "    <tr>\n",
       "      <th>1</th>\n",
       "      <td>-79.132557</td>\n",
       "      <td>-40.995129</td>\n",
       "    </tr>\n",
       "    <tr>\n",
       "      <th>2</th>\n",
       "      <td>47.244262</td>\n",
       "      <td>80.880444</td>\n",
       "    </tr>\n",
       "    <tr>\n",
       "      <th>3</th>\n",
       "      <td>18.698680</td>\n",
       "      <td>-17.160223</td>\n",
       "    </tr>\n",
       "    <tr>\n",
       "      <th>4</th>\n",
       "      <td>37.935520</td>\n",
       "      <td>12.226293</td>\n",
       "    </tr>\n",
       "    <tr>\n",
       "      <th>...</th>\n",
       "      <td>...</td>\n",
       "      <td>...</td>\n",
       "    </tr>\n",
       "    <tr>\n",
       "      <th>95</th>\n",
       "      <td>62.946079</td>\n",
       "      <td>-89.040858</td>\n",
       "    </tr>\n",
       "    <tr>\n",
       "      <th>96</th>\n",
       "      <td>-35.396287</td>\n",
       "      <td>-148.834139</td>\n",
       "    </tr>\n",
       "    <tr>\n",
       "      <th>97</th>\n",
       "      <td>-47.531194</td>\n",
       "      <td>-93.051569</td>\n",
       "    </tr>\n",
       "    <tr>\n",
       "      <th>98</th>\n",
       "      <td>1.888823</td>\n",
       "      <td>104.259309</td>\n",
       "    </tr>\n",
       "    <tr>\n",
       "      <th>99</th>\n",
       "      <td>-22.706630</td>\n",
       "      <td>-117.071834</td>\n",
       "    </tr>\n",
       "  </tbody>\n",
       "</table>\n",
       "<p>100 rows × 2 columns</p>\n",
       "</div>"
      ],
      "text/plain": [
       "          lat         lng\n",
       "0   13.413500   45.792650\n",
       "1  -79.132557  -40.995129\n",
       "2   47.244262   80.880444\n",
       "3   18.698680  -17.160223\n",
       "4   37.935520   12.226293\n",
       "..        ...         ...\n",
       "95  62.946079  -89.040858\n",
       "96 -35.396287 -148.834139\n",
       "97 -47.531194  -93.051569\n",
       "98   1.888823  104.259309\n",
       "99 -22.706630 -117.071834\n",
       "\n",
       "[100 rows x 2 columns]"
      ]
     },
     "execution_count": 4,
     "metadata": {},
     "output_type": "execute_result"
    }
   ],
   "source": [
    "dr = pd.read_csv(root_dir + '/test_pts.txt')\n",
    "dr"
   ]
  },
  {
   "cell_type": "code",
   "execution_count": 6,
   "metadata": {},
   "outputs": [
    {
     "data": {
      "text/plain": [
       "['lat', 'lng']"
      ]
     },
     "execution_count": 6,
     "metadata": {},
     "output_type": "execute_result"
    }
   ],
   "source": [
    "list(dr.columns) "
   ]
  },
  {
   "cell_type": "code",
   "execution_count": null,
   "metadata": {},
   "outputs": [],
   "source": []
  }
 ],
 "metadata": {
  "kernelspec": {
   "display_name": "Python 3",
   "language": "python",
   "name": "python3"
  },
  "language_info": {
   "codemirror_mode": {
    "name": "ipython",
    "version": 3
   },
   "file_extension": ".py",
   "mimetype": "text/x-python",
   "name": "python",
   "nbconvert_exporter": "python",
   "pygments_lexer": "ipython3",
   "version": "3.6.9"
  }
 },
 "nbformat": 4,
 "nbformat_minor": 4
}
