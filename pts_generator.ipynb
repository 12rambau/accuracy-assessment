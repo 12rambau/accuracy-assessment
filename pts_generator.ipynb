{
 "cells": [
  {
   "cell_type": "markdown",
   "metadata": {},
   "source": [
    "## generate a fake correct pts text file "
   ]
  },
  {
   "cell_type": "code",
   "execution_count": null,
   "metadata": {},
   "outputs": [],
   "source": [
    "import ee \n",
    "import geemap\n",
    "from sepal_ui.scripts import mapping as sepalmap\n",
    "\n",
    "ee.Initialize()\n",
    "\n",
    "Map = sepalmap.init_map()[1]\n",
    "Map"
   ]
  },
  {
   "cell_type": "code",
   "execution_count": null,
   "metadata": {},
   "outputs": [],
   "source": [
    "#create a false list of points\n",
    "import shapely.geometry as sg \n",
    "from faker import Faker\n",
    "from decimal import Decimal\n",
    "import geopandas\n",
    "\n",
    "Faker.seed(0)\n",
    "fake = Faker()\n",
    "\n",
    "points_nb = 3\n",
    "\n",
    "#create the point list \n",
    "pts = [fake.location_on_land(coords_only=True) for _ in range(points_nb)]\n",
    "\n",
    "#create the markers \n",
    "markers = [geemap.Marker(location=pt, draggable=False) for pt in pts]\n",
    "\n",
    "#display on the map\n",
    "marker_cluster = geemap.MarkerCluster(markers=tuple(markers))\n",
    "Map.add_layer(marker_cluster)"
   ]
  },
  {
   "cell_type": "code",
   "execution_count": null,
   "metadata": {},
   "outputs": [],
   "source": [
    "#transform the points into a file store at the root directory of sepal \n",
    "import os \n",
    "import pandas as pd\n",
    "\n",
    "df = pd.DataFrame([[pt[0], pt[1]] for pt in pts], columns=['lat', 'lng'])\n",
    "root_dir = os.path.expanduser('~')\n",
    "\n",
    "df.to_csv(root_dir + '/test_pts.txt', index=False)\n",
    "df"
   ]
  },
  {
   "cell_type": "code",
   "execution_count": null,
   "metadata": {},
   "outputs": [],
   "source": [
    "dr = pd.read_csv(root_dir + '/test_pts.txt')\n",
    "dr"
   ]
  },
  {
   "cell_type": "code",
   "execution_count": null,
   "metadata": {},
   "outputs": [],
   "source": [
    "list(dr.columns) "
   ]
  }
 ],
 "metadata": {
  "kernelspec": {
   "display_name": "Python 3",
   "language": "python",
   "name": "python3"
  },
  "language_info": {
   "codemirror_mode": {
    "name": "ipython",
    "version": 3
   },
   "file_extension": ".py",
   "mimetype": "text/x-python",
   "name": "python",
   "nbconvert_exporter": "python",
   "pygments_lexer": "ipython3",
   "version": "3.6.9"
  }
 },
 "nbformat": 4,
 "nbformat_minor": 4
}
