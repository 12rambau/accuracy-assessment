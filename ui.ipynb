{
 "cells": [
  {
   "cell_type": "code",
   "execution_count": null,
   "metadata": {},
   "outputs": [],
   "source": [
    "from sepal_ui import widgetFactory as wf\n",
    "from sepal_ui import widgetBinding as wb"
   ]
  },
  {
   "cell_type": "code",
   "execution_count": null,
   "metadata": {},
   "outputs": [],
   "source": [
    "#create appBar \n",
    "ts_appBar, ts_toggleButton = wf.AppBar('Time series')"
   ]
  },
  {
   "cell_type": "code",
   "execution_count": null,
   "metadata": {},
   "outputs": [],
   "source": [
    "#create footer \n",
    "ts_footer = wf.Footer()"
   ]
  },
  {
   "cell_type": "code",
   "execution_count": null,
   "metadata": {},
   "outputs": [],
   "source": [
    "#add the tiles \n",
    "%run 'table_ui.ipynb'\n",
    "%run 'viz_ui.ipynb'\n",
    "%run 'export_ui.ipynb'\n",
    "%run 'about_ui.ipynb'\n",
    "\n",
    "ts_content = [\n",
    "    tb_tile,\n",
    "    tb_map_tile,\n",
    "    viz_input,\n",
    "    viz_pts_selector,\n",
    "    viz_captions,\n",
    "    export_valid,\n",
    "    export_tile,\n",
    "    export_results,\n",
    "    ts_about,\n",
    "    ts_disclaimer\n",
    "]\n",
    "\n",
    "#select the tile to display first \n",
    "wf.hideCards('file_widget', ts_content)"
   ]
  },
  {
   "cell_type": "code",
   "execution_count": null,
   "metadata": {},
   "outputs": [],
   "source": [
    "#create a drawer \n",
    "item_pts = wf.DrawerItem('Import points', 'mdi-map-marker-check', card=\"file_widget\")\n",
    "item_viz = wf.DrawerItem('Visualize Points', 'mdi-earth', card=\"viz_widget\")\n",
    "item_export = wf.DrawerItem('Export selected data', 'mdi-export', card=\"export_widget\")\n",
    "item_about = wf.DrawerItem('About', 'mdi-help-circle', card=\"about_widget\")\n",
    "\n",
    "code_link = 'https://github.com/12rambau/accuracy-assessment'\n",
    "wiki_link = 'https://github.com/12rambau/accuracy-assessment/blob/master/README.md'\n",
    "issue = 'https://github.com/12rambau/accuracy-assessment/issues/new'\n",
    "\n",
    "ts_items = [\n",
    "    item_pts,\n",
    "    item_viz,\n",
    "    item_export,\n",
    "    item_about\n",
    "]\n",
    "\n",
    "ts_drawer = wf.NavDrawer(ts_items, code = code_link, wiki = wiki_link, issue = issue)"
   ]
  },
  {
   "cell_type": "code",
   "execution_count": null,
   "metadata": {},
   "outputs": [],
   "source": [
    "#build the app \n",
    "ts_app = wf.App(\n",
    "    tiles=ts_content, \n",
    "    appBar=ts_appBar, \n",
    "    footer=ts_footer, \n",
    "    navDrawer=ts_drawer\n",
    ")[0]"
   ]
  },
  {
   "cell_type": "code",
   "execution_count": null,
   "metadata": {},
   "outputs": [],
   "source": [
    "#bind the components together\n",
    "wb.displayDrawer(ts_drawer, ts_toggleButton) #drawer \n",
    "for item in ts_items:                             #drawer clickable buttons\n",
    "    wb.display_tile(item, ts_content)"
   ]
  },
  {
   "cell_type": "code",
   "execution_count": null,
   "metadata": {},
   "outputs": [],
   "source": [
    "#display the app\n",
    "ts_app"
   ]
  }
 ],
 "metadata": {
  "kernelspec": {
   "display_name": "Python 3",
   "language": "python",
   "name": "python3"
  },
  "language_info": {
   "codemirror_mode": {
    "name": "ipython",
    "version": 3
   },
   "file_extension": ".py",
   "mimetype": "text/x-python",
   "name": "python",
   "nbconvert_exporter": "python",
   "pygments_lexer": "ipython3",
   "version": "3.6.9"
  }
 },
 "nbformat": 4,
 "nbformat_minor": 4
}
