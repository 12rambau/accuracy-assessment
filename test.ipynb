{
 "cells": [
  {
   "cell_type": "code",
   "execution_count": 1,
   "metadata": {},
   "outputs": [],
   "source": [
    "import ee \n",
    "\n",
    "ee.Initialize()"
   ]
  },
  {
   "cell_type": "code",
   "execution_count": 3,
   "metadata": {},
   "outputs": [
    {
     "data": {
      "application/vnd.jupyter.widget-view+json": {
       "model_id": "41bf8b492fcd494f889e31f9644d91a0",
       "version_major": 2,
       "version_minor": 0
      },
      "text/plain": [
       "Map(center=[0, 0], controls=(ZoomControl(options=['position', 'zoom_in_text', 'zoom_in_title', 'zoom_out_text'…"
      ]
     },
     "metadata": {},
     "output_type": "display_data"
    }
   ],
   "source": [
    "import geemap\n",
    "from sepal_ui.scripts import mapping as sepalmap\n",
    "\n",
    "Map = sepalmap.init_map()[1]\n",
    "Map"
   ]
  },
  {
   "cell_type": "code",
   "execution_count": 3,
   "metadata": {},
   "outputs": [
    {
     "data": {
      "text/plain": [
       "{'type': 'Point', 'coordinates': [-158.265114, -20.4975645]}"
      ]
     },
     "execution_count": 3,
     "metadata": {},
     "output_type": "execute_result"
    }
   ],
   "source": [
    "#create a false list of points\n",
    "import shapely.geometry as sg \n",
    "from faker import Faker\n",
    "from decimal import Decimal\n",
    "import geopandas\n",
    "\n",
    "Faker.seed(0)\n",
    "fake = Faker()\n",
    "\n",
    "points_nb = 4\n",
    "\n",
    "pts = []\n",
    "for i in range(points_nb):\n",
    "    point = sg.Point(fake.longitude(), fake.latitude())\n",
    "    pts.append(point)\n",
    "\n",
    "ee_pts = []\n",
    "for index, pt in enumerate(pts):\n",
    "    #transform shape in geojson\n",
    "    json = geopandas.GeoSeries(pt).__geo_interface__\n",
    "    #transform gson in ee_feature \n",
    "    ee_object = geemap.geojson_to_ee(json)\n",
    "    #add to the array \n",
    "    ee_pts.append(ee_object)\n",
    "    #display on the map\n",
    "    Map.addLayer(ee_object, {}, str(index))\n",
    "    \n",
    "ee_pts[1].geometry().getInfo()"
   ]
  },
  {
   "cell_type": "code",
   "execution_count": 4,
   "metadata": {},
   "outputs": [],
   "source": [
    "#define the cloud masking function \n",
    "\n",
    "\n",
    "def clouMask_landsat(image):\n",
    "    \"\"\"\n",
    "    Function to mask clouds based on the pixel_qa band of Landsat SR data.\n",
    "    \n",
    "    Args:\n",
    "        image(ee.Image): image Input Landsat SR image\n",
    "    Returns:\n",
    "        (ee.Image): Cloudmasked Landsat image\n",
    "    \"\"\"\n",
    "    qa = image.select('pixel_qa')\n",
    "    \n",
    "    # If the cloud bit (5) is set and the cloud confidence (7) is high\n",
    "    # or the cloud shadow bit is set (3), then it's a bad pixel.\n",
    "    cloud = qa.bitwiseAnd(1 << 5).And(qa.bitwiseAnd(1 << 7)).Or(qa.bitwiseAnd(1 << 3))\n",
    "    \n",
    "    # Remove edge pixels that don't occur in all bands\n",
    "    mask2 = image.mask().reduce(ee.Reducer.min())\n",
    "    \n",
    "    return image.updateMask(cloud.Not()).updateMask(mask2)\n",
    "\n",
    "def cloudMask_sentinel(image):\n",
    "    \"\"\"\n",
    "    Function to mask clouds using the Sentinel-2 QA band\n",
    "    \n",
    "    Args:\n",
    "        {ee.Image} image Sentinel-2 image\n",
    "    Returns:\n",
    "        {ee.Image} cloud masked Sentinel-2 image\n",
    "    \"\"\"\n",
    "    qa = image.select('QA60')\n",
    "    \n",
    "    # Bits 10 and 11 are clouds and cirrus, respectively.\n",
    "    cloudBitMask = 1 << 10;\n",
    "    cirrusBitMask = 1 << 11;\n",
    "    \n",
    "    #  Both flags should be set to zero, indicating clear conditions.\n",
    "    mask = qa.bitwiseAnd(cloudBitMask).eq(0).And(qa.bitwiseAnd(cirrusBitMask).eq(0))\n",
    "    \n",
    "    return image.updateMask(mask).divide(10000)\n",
    "\n",
    "\n",
    "    "
   ]
  },
  {
   "cell_type": "code",
   "execution_count": 5,
   "metadata": {},
   "outputs": [],
   "source": [
    "#define the visualiztion parameters for both the sentinel and the landsat data\n",
    "\n",
    "visParams_landsat = {\n",
    "  'bands': ['B3', 'B2', 'B1'],\n",
    "  'min': 0,\n",
    "  'max': 3000,\n",
    "  'gamma': 1.4,\n",
    "}\n",
    "\n",
    "\n",
    "visParams_sentinel = {\n",
    "  'min': 0.0,\n",
    "  'max': 0.3,\n",
    "  'bands': ['B4', 'B3', 'B2'],\n",
    "}"
   ]
  },
  {
   "cell_type": "code",
   "execution_count": 6,
   "metadata": {},
   "outputs": [],
   "source": [
    "annual_time_series = []\n",
    "#for each point create a dictionnary with all the cliped images required for the final display\n",
    "index = 0\n",
    "point = pts[index]\n",
    "annual_time_series.append({})\n",
    "\n",
    "#create un buffer\n",
    "size = 10000\n",
    "\n",
    "buffer = ee_pts[index].geometry().buffer(size)\n",
    "\n",
    "Map.addLayer(buffer, {'color': 'green'}, 'buffer')\n",
    "Map.centerObject(buffer, zoom=10)\n",
    "\n",
    "#load the landsat data\n",
    "landsat_start = 2005\n",
    "landsat_end = 2015\n",
    "\n",
    "for year in range(landsat_start, landsat_end + 1):\n",
    "    start = '{}-01-01'.format(year)\n",
    "    end = '{}-12-31'.format(year)\n",
    "    \n",
    "    dataset = ee.ImageCollection('LANDSAT/LE07/C01/T1_SR').filterDate(start,end)#.map(clouMask_landsat)\n",
    "        \n",
    "    clip = dataset.median().clip(buffer)\n",
    "    \n",
    "    annual_time_series[0][year] = clip\n",
    "    \n",
    "Map.addLayer(annual_time_series[0][2008], visParams_landsat, 'landsat-{}'.format(2008))\n",
    "    \n",
    "#load the sentinel data \n",
    "sentinel_start = 2016\n",
    "sentinel_end = 2019\n",
    "\n",
    "for year in range(sentinel_start, sentinel_end + 1):\n",
    "    start = '{}-01-01'.format(year)\n",
    "    end = '{}-12-31'.format(year)\n",
    "    \n",
    "    dataset = ee.ImageCollection('COPERNICUS/S2_SR').filterDate(start, end).filter(ee.Filter.lt('CLOUDY_PIXEL_PERCENTAGE',20))#.map(cloudMask_sentinel)\n",
    "\n",
    "    clip = dataset.mean().clip(buffer)\n",
    "\n",
    "    annual_time_series[0][year] = clip\n",
    "    \n",
    "    #export the image : \n",
    "    #task_config = {\n",
    "    #    'image':clip,\n",
    "    #    'description':'test-{}'.format(year),\n",
    "    #    'scale': 30,\n",
    "    #    'region':buffer,\n",
    "    #    'maxPixels': 1e12\n",
    "    #}\n",
    "    \n",
    "    #task = ee.batch.Export.image.toDrive(**task_config)\n",
    "    #task.start()\n",
    "    \n",
    "Map.addLayer(annual_time_series[0][2017], visParams_sentinel, 'sentinel-{}'.format(2017))"
   ]
  },
  {
   "cell_type": "code",
   "execution_count": null,
   "metadata": {},
   "outputs": [],
   "source": []
  }
 ],
 "metadata": {
  "kernelspec": {
   "display_name": "Python 3",
   "language": "python",
   "name": "python3"
  },
  "language_info": {
   "codemirror_mode": {
    "name": "ipython",
    "version": 3
   },
   "file_extension": ".py",
   "mimetype": "text/x-python",
   "name": "python",
   "nbconvert_exporter": "python",
   "pygments_lexer": "ipython3",
   "version": "3.6.9"
  }
 },
 "nbformat": 4,
 "nbformat_minor": 4
}
