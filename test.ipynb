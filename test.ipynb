{
 "cells": [
  {
   "cell_type": "code",
   "execution_count": 1,
   "metadata": {},
   "outputs": [
    {
     "data": {
      "application/vnd.jupyter.widget-view+json": {
       "model_id": "ec775e4a9fb348bd9733e356438a6cc2",
       "version_major": 2,
       "version_minor": 0
      },
      "text/plain": [
       "Map(center=[40, -100], controls=(WidgetControl(options=['position'], widget=HBox(children=(ToggleButton(value=…"
      ]
     },
     "metadata": {},
     "output_type": "display_data"
    }
   ],
   "source": [
    "import geemap \n",
    "\n",
    "Map = geemap.Map()\n",
    "Map"
   ]
  },
  {
   "cell_type": "code",
   "execution_count": 2,
   "metadata": {},
   "outputs": [],
   "source": [
    "import pandas as pd\n",
    "import os\n",
    "from pathlib import Path\n",
    "\n",
    "#lire le fichier de points \n",
    "file = os.path.expanduser('~') + '/test_pts.txt'\n",
    "\n",
    "filename = Path(file).stem\n",
    "\n",
    "pts = pd.read_csv(file)\n",
    "#pts"
   ]
  },
  {
   "cell_type": "code",
   "execution_count": 3,
   "metadata": {},
   "outputs": [],
   "source": [
    "import ee\n",
    "\n",
    "ee.Initialize()\n",
    "\n",
    "ee_pts = [ee.Geometry.Point(pts.loc[i]['lng'], pts.loc[i]['lat']) for i in range(len(pts))]"
   ]
  },
  {
   "cell_type": "code",
   "execution_count": 4,
   "metadata": {},
   "outputs": [],
   "source": [
    "buffers = [ee_pt.buffer(2000) for ee_pt in ee_pts]\n",
    "\n",
    "#_ = [Map.addLayer(buffers[i], {}, str(i)) for i in range(len(buffers))]"
   ]
  },
  {
   "cell_type": "code",
   "execution_count": 5,
   "metadata": {},
   "outputs": [
    {
     "data": {
      "application/vnd.jupyter.widget-view+json": {
       "model_id": "4ee2bd7d2fcd40de88709f0b61dbce45",
       "version_major": 2,
       "version_minor": 0
      },
      "text/plain": [
       "Alert(children=['toto'], class_='mt-5', text=True, type='info')"
      ]
     },
     "metadata": {},
     "output_type": "display_data"
    }
   ],
   "source": [
    "from sepal_ui import widgetFactory as wf \n",
    "\n",
    "output = wf.OutputWidget('toto')\n",
    "output"
   ]
  },
  {
   "cell_type": "code",
   "execution_count": 6,
   "metadata": {},
   "outputs": [
    {
     "data": {
      "text/plain": [
       "'Red_Green_Blue'"
      ]
     },
     "execution_count": 6,
     "metadata": {},
     "output_type": "execute_result"
    }
   ],
   "source": [
    "from utils import parameters as pm\n",
    "\n",
    "bands = 'Red, Green, Blue'\n",
    "name_bands = '_'.join(bands.split(', '))\n",
    "name_bands"
   ]
  },
  {
   "cell_type": "code",
   "execution_count": 7,
   "metadata": {},
   "outputs": [],
   "source": [
    "import time\n",
    "from sepal_ui.scripts import gee\n",
    "from utils import gdrive\n",
    "import matplotlib.pyplot as plt\n",
    "import tifffile\n",
    "from sepal_ui.scripts import utils as su\n",
    "from matplotlib.backends.backend_pdf import PdfPages\n",
    "import rasterio as rio\n",
    "import numpy as np\n",
    "from utils import utils\n",
    "import os\n",
    "\n",
    "\n",
    "start_year = 2005\n",
    "end_year = 2020\n",
    "    \n",
    "viz_bands = pm.getAvailableBands()[bands][0]\n",
    "dataset_source = pm.getSources()['landsat 7']\n",
    "\n",
    "drive_handler = gdrive.gdrive()\n",
    "\n",
    "\n",
    "#export the data\n",
    "pdf_file = pm.getResultDir() + '{}_{}.pdf'.format(filename, name_bands)\n",
    "with PdfPages(pdf_file) as pdf:\n",
    "    \n",
    "    #each point will be a separate page \n",
    "    for index, row in pts.iterrows():\n",
    "        \n",
    "        #export the images \n",
    "        for year in range(start_year, end_year):\n",
    "                \n",
    "            start = str(year) + '-01-01';\n",
    "            end = str(year) + '-12-31';\n",
    "                \n",
    "            dataset = ee.ImageCollection(dataset_source)\n",
    "            dataset = dataset.filterDate(start, end).median()\n",
    "            clip = dataset.clip(buffers[index]).select(viz_bands)\n",
    "            \n",
    "            description = '{}_pt_{}_{}_{}'.format(filename, index, name_bands, year)\n",
    "                \n",
    "            #export the image : \n",
    "            task_config = {\n",
    "                'image':clip,\n",
    "                'description':description,\n",
    "                'scale': 30,\n",
    "                'region':buffers[index],\n",
    "                'maxPixels': 1e12\n",
    "            }\n",
    "        \n",
    "            task = ee.batch.Export.image.toDrive(**task_config)\n",
    "            task.start()\n",
    "                \n",
    "            \n",
    "        #check download evolution\n",
    "        task_names = ['{}_pt_{}_{}_{}'.format(filename, index, name_bands, year) for year in range(start_year, end_year)]\n",
    "        state = utils.custom_wait_for_completion(task_names, output)\n",
    "        su.displayIO(output, 'Download point {} finished'.format(index), 'success')\n",
    "        \n",
    "        #retreive to sepal\n",
    "        for year in range(start_year, end_year):\n",
    "            description = '{}_pt_{}_{}_{}'.format(filename, index, name_bands, year)\n",
    "            files = drive_handler.get_files(description)\n",
    "            drive_handler.download_files(files, pm.getTmpDir())\n",
    "\n",
    "        #display the images in a fig and export it\n",
    "        page_title = \"Pt_{} (lat:{:.5f}, lng:{:.5f})\".format(index, row['lat'], row['lng'])\n",
    "        su.displayIO(output, 'Creating page for pt {}'.format(index))\n",
    "        fig, axes = plt.subplots(5, 3, figsize=(8.27,11.69))\n",
    "        fig.suptitle(page_title, fontsize=16)\n",
    "        #plt.tight_layout()\n",
    "        for year in range(start_year, end_year):\n",
    "            description = '{}_pt_{}_{}_{}'.format(filename, index, name_bands, year)\n",
    "            file = pm.getTmpDir() + description + '.tif'\n",
    "            \n",
    "            with rio.open(file) as f:\n",
    "                data = f.read([1, 2, 3], masked=True)\n",
    "                \n",
    "            data = data/3000\n",
    "            data = data.clip(0, 1)\n",
    "            data = np.transpose(data,[1,2,0])\n",
    "            \n",
    "            i = year - start_year\n",
    "            ax = axes[pm.getPositionPdf(i)[0], pm.getPositionPdf(i)[1]]\n",
    "            ax.imshow(data)\n",
    "            ax.set_title(str(year))\n",
    "            ax.axis('off')\n",
    "            \n",
    "            #delete tmp file \n",
    "            os.remove(file)\n",
    "        \n",
    "        pdf.savefig(fig)\n",
    "        plt.close()\n",
    "        \n",
    "        if index == 2:\n",
    "            break"
   ]
  },
  {
   "cell_type": "code",
   "execution_count": null,
   "metadata": {},
   "outputs": [],
   "source": []
  }
 ],
 "metadata": {
  "kernelspec": {
   "display_name": "Python 3",
   "language": "python",
   "name": "python3"
  },
  "language_info": {
   "codemirror_mode": {
    "name": "ipython",
    "version": 3
   },
   "file_extension": ".py",
   "mimetype": "text/x-python",
   "name": "python",
   "nbconvert_exporter": "python",
   "pygments_lexer": "ipython3",
   "version": "3.6.9"
  }
 },
 "nbformat": 4,
 "nbformat_minor": 4
}
