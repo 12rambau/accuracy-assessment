{
 "cells": [
  {
   "cell_type": "code",
   "execution_count": 1,
   "metadata": {},
   "outputs": [
    {
     "data": {
      "application/vnd.jupyter.widget-view+json": {
       "model_id": "f5af04488d6c474c82d43937098e8df5",
       "version_major": 2,
       "version_minor": 0
      },
      "text/plain": [
       "Styles()"
      ]
     },
     "metadata": {},
     "output_type": "display_data"
    },
    {
     "data": {
      "application/vnd.jupyter.widget-view+json": {
       "model_id": "062daef9144542a781bbff3a4bdcaa5b",
       "version_major": 2,
       "version_minor": 0
      },
      "text/plain": [
       "ResizeTrigger()"
      ]
     },
     "metadata": {},
     "output_type": "display_data"
    }
   ],
   "source": [
    "from component import tile \n",
    "from component import io"
   ]
  },
  {
   "cell_type": "code",
   "execution_count": 2,
   "metadata": {},
   "outputs": [],
   "source": [
    "# for debug \n",
    "import pandas as pd \n",
    "import geopandas as gpd\n",
    "from component import parameter as cp\n",
    "\n",
    "tb_io = io.TableIo()\n",
    "tb_io.json_table = '{\"pathname\": \"/home/prambaud/modules/clip-time-series/utils/clip_test_points.csv\", \"id_column\": \"id\", \"lat_column\": \"Y\", \"lng_column\": \"X\"}'\n",
    "\n",
    "\n",
    "df = pd.read_csv(cp.test_dataset, sep=None, engine='python')\n",
    "df = df.filter(items=[\"lat\", \"lng\", \"id\"])\n",
    "gdf = gpd.GeoDataFrame(df, geometry=gpd.points_from_xy(df.lng, df.lat), crs='EPSG:4326')\n",
    "tb_io.pts = gdf "
   ]
  },
  {
   "cell_type": "code",
   "execution_count": 3,
   "metadata": {},
   "outputs": [],
   "source": [
    "viz_io = io.VizIo()"
   ]
  },
  {
   "cell_type": "code",
   "execution_count": 4,
   "metadata": {},
   "outputs": [],
   "source": [
    "viz_input_tile = tile.InputTile(viz_io, tb_io)"
   ]
  },
  {
   "cell_type": "code",
   "execution_count": 5,
   "metadata": {},
   "outputs": [
    {
     "data": {
      "application/vnd.jupyter.widget-view+json": {
       "model_id": "4af453b8be82498d8a028ba66147a8f1",
       "version_major": 2,
       "version_minor": 0
      },
      "text/plain": [
       "InputTile(align_center=True, children=[Card(children=[Html(children=['set up your inputs'], tag='h2'), Flex(ch…"
      ]
     },
     "metadata": {},
     "output_type": "display_data"
    }
   ],
   "source": [
    "viz_input_tile"
   ]
  },
  {
   "cell_type": "code",
   "execution_count": 6,
   "metadata": {},
   "outputs": [
    {
     "data": {
      "text/plain": [
       "{'check': False,\n",
       " 'sources': None,\n",
       " 'bands': None,\n",
       " 'start_year': 2005,\n",
       " 'end_year': 2021,\n",
       " 'square_size': 2000,\n",
       " 'planet_key': None,\n",
       " 'driver': None}"
      ]
     },
     "execution_count": 6,
     "metadata": {},
     "output_type": "execute_result"
    }
   ],
   "source": [
    "viz_io.__dict__"
   ]
  },
  {
   "cell_type": "code",
   "execution_count": null,
   "metadata": {},
   "outputs": [],
   "source": []
  }
 ],
 "metadata": {
  "kernelspec": {
   "display_name": "Python 3",
   "language": "python",
   "name": "python3"
  },
  "language_info": {
   "codemirror_mode": {
    "name": "ipython",
    "version": 3
   },
   "file_extension": ".py",
   "mimetype": "text/x-python",
   "name": "python",
   "nbconvert_exporter": "python",
   "pygments_lexer": "ipython3",
   "version": "3.6.9"
  }
 },
 "nbformat": 4,
 "nbformat_minor": 4
}
