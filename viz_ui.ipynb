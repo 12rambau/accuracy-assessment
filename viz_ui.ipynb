{
 "cells": [
  {
   "cell_type": "code",
   "execution_count": 13,
   "metadata": {},
   "outputs": [],
   "source": [
    "from sepal_ui import widgetFactory as wf\n",
    "from sepal_ui import widgetBinding as wb\n",
    "from sepal_ui.scripts import mapping\n",
    "from sepal_ui.scripts import utils as su\n",
    "\n",
    "import ipyvuetify as v\n",
    "from utils import messages as ms\n",
    "from utils import parameters as pm\n",
    "from scripts import vizualisation as viz\n",
    "from functools import partial\n",
    "\n",
    "import pandas as pd\n",
    "import os\n",
    "import geemap"
   ]
  },
  {
   "cell_type": "code",
   "execution_count": 14,
   "metadata": {},
   "outputs": [],
   "source": [
    "#input and output as mutable objects \n",
    "class Viz_io:\n",
    "    def __init__(self):\n",
    "        #input\n",
    "        self.sources = None\n",
    "        self.bands = None\n",
    "        \n",
    "        #output\n",
    "\n",
    "viz_io = Viz_io()"
   ]
  },
  {
   "cell_type": "code",
   "execution_count": 15,
   "metadata": {},
   "outputs": [],
   "source": [
    "#pts map\n",
    "pts_map = mapping.init_map()[1]\n",
    "\n",
    "id_ = 'viz_widget'\n",
    "title = 'Pts map'\n",
    "\n",
    "viz_map = wf.Tile(\n",
    "    id_,\n",
    "    title,\n",
    "    inputs=[pts_map]\n",
    ") "
   ]
  },
  {
   "cell_type": "code",
   "execution_count": 16,
   "metadata": {},
   "outputs": [],
   "source": [
    "#captions\n",
    "maps = [viz.setVizMap() for i in range(pm.getnbIntervals())]\n",
    "\n",
    "title = 'Captions'\n",
    "\n",
    "viz_captions = wf.Tile(\n",
    "    id_,\n",
    "    title\n",
    ")\n",
    "\n",
    "title_widget = viz_captions.children[0].children[0]\n",
    "maps_layout = v.Layout(\n",
    "    row=True,\n",
    "    children=maps\n",
    ")\n",
    "viz_captions.children[0].children = [title_widget, maps_layout]"
   ]
  },
  {
   "cell_type": "code",
   "execution_count": 17,
   "metadata": {},
   "outputs": [],
   "source": [
    "#output \n",
    "viz_output = wf.OutputWidget(ms.VIZ_INTRO)\n",
    "\n",
    "#btn \n",
    "viz_btn = wf.ProcessBtn(ms.VIZ_BTN)\n",
    "\n",
    "#create the inputs \n",
    "viz_sources = v.Select(\n",
    "    items=[*pm.getSources()], \n",
    "    label=ms.VIZ_SOURCES, \n",
    "    v_model=None, \n",
    "    multiple=True\n",
    ")\n",
    "\n",
    "viz_bands = v.Select(\n",
    "    items=[*pm.getAvailableBands()],\n",
    "    label=ms.VIZ_BANDS,\n",
    "    v_model=None\n",
    ")\n",
    "\n",
    "#bind the inputs\n",
    "wb.bind(viz_sources, viz_io, 'sources', viz_output)\n",
    "wb.bind(viz_bands, viz_io, 'bands', viz_output)\n",
    "\n",
    "#create a band selector \n",
    "title = 'select your vizualisation Parameters'\n",
    "\n",
    "viz_input = wf.Tile(\n",
    "    id_,\n",
    "    title,\n",
    "    btn=viz_btn,\n",
    "    inputs=[viz_sources, viz_bands],\n",
    "    output=viz_output\n",
    ")"
   ]
  },
  {
   "cell_type": "code",
   "execution_count": 18,
   "metadata": {},
   "outputs": [],
   "source": [
    "#create a pts selector\n",
    "viz_pts_slider = v.Slider(\n",
    "    label= 'Pts selector',\n",
    "    max=0,\n",
    "    class_=\"mt-5\", \n",
    "    thumb_label='always', \n",
    "    v_model=0\n",
    ")\n",
    "\n",
    "title = 'Pts selector'\n",
    "\n",
    "viz_pts_selector = wf.Tile(\n",
    "    id_,\n",
    "    title,\n",
    "    inputs=[viz_pts_slider]\n",
    ")"
   ]
  },
  {
   "cell_type": "code",
   "execution_count": 19,
   "metadata": {},
   "outputs": [],
   "source": [
    "#change the maps position when the slider move\n",
    "def change_center(widget, event, data, m, maps, tile):\n",
    "    \n",
    "    pt = widget.v_model\n",
    "    \n",
    "    if not pt:\n",
    "        return\n",
    "    \n",
    "    #load the pts \n",
    "    #pts = getattr(tb_io, 'pts')\n",
    "    pts = pd.read_csv(os.path.expanduser('~') + '/test_pts.txt')\n",
    "    lng = float(pts.loc[pt-1]['lng'])\n",
    "    lat = float(pts.loc[pt-1]['lat'])\n",
    "    \n",
    "    #change the tile title \n",
    "    tile.children[0].children[0].children = [ms.VIZ_POINT.format(pt, lat, lng)]\n",
    "    \n",
    "    #change the center of all maps \n",
    "    m.setCenter(lng, lat, 8)\n",
    "    [m.setCenter(lng, lat, 12) for m in maps]\n",
    "    \n",
    "    return \n",
    "\n",
    "viz_pts_slider.on_event('change', partial(\n",
    "    change_center,\n",
    "    m = pts_map,\n",
    "    maps = maps,\n",
    "    tile = viz_captions\n",
    "))"
   ]
  },
  {
   "cell_type": "code",
   "execution_count": 20,
   "metadata": {},
   "outputs": [],
   "source": [
    "#vizualise data \n",
    "from scripts import table as table_run\n",
    "\n",
    "def process_start(widget, event, data, output, m, maps):\n",
    "    \n",
    "    #toggle the loading button\n",
    "    su.toggleLoading(widget)\n",
    "    \n",
    "    #load the input \n",
    "    file = os.path.expanduser('~') + '/test_pts.txt'\n",
    "    pts = pd.read_csv(file)\n",
    "    #file = getattr(tb_io, 'file')\n",
    "    #pts = getattr(tb_io, 'pts')\n",
    "    bands = getattr(viz_io, 'bands')\n",
    "    sources = getattr(viz_io, 'sources')\n",
    "    \n",
    "    #check input\n",
    "    if not wb.checkInput(file, output, ms.NO_PTS): return su.toggleLoading(widget)\n",
    "    #if not wb.checkInput(pts, output, ms.NO_PTS): return su.toggleLoading(widget)\n",
    "    if not wb.checkInput(bands, output, ms.NO_BANDS): return su.toggleLoading(widget)\n",
    "    if not wb.checkInput(sources, output, ms.NO_SOURCES): return su.toggleLoading(widget)\n",
    "    if not len(sources) > 0: \n",
    "        su.displayIO(output, ms.NO_SOURCES, 'error')\n",
    "        return su.toggleLoading(widget)\n",
    "    if 'sentinel 2' in sources:\n",
    "        su.displayIO(output, ms.SENTINEL_DISABLED, 'warning')\n",
    "    \n",
    "    #display points on the map\n",
    "    pts = table_run.setMap(file, m) \n",
    "    \n",
    "    #generat images (buffer at the moment)\n",
    "    viz.setLayer(maps, pts, bands, sources)\n",
    "    \n",
    "    #change the slider size \n",
    "    viz_pts_slider.max = len(pts)\n",
    "    \n",
    "    #toggle the loading button\n",
    "    su.toggleLoading(widget)\n",
    "    \n",
    "    return \n",
    "\n",
    "viz_btn.on_event('click', partial(\n",
    "    process_start,\n",
    "    output = viz_output,\n",
    "    m = pts_map,\n",
    "    maps = maps\n",
    "))\n",
    "    \n",
    "    "
   ]
  },
  {
   "cell_type": "code",
   "execution_count": 21,
   "metadata": {
    "scrolled": false
   },
   "outputs": [
    {
     "data": {
      "application/vnd.jupyter.widget-view+json": {
       "model_id": "286054ed6d7e4c08939e37cad4d80d53",
       "version_major": 2,
       "version_minor": 0
      },
      "text/plain": [
       "Layout(align_center=True, children=[Card(children=[Html(children=['select your vizualisation Parameters'], tag…"
      ]
     },
     "metadata": {},
     "output_type": "display_data"
    }
   ],
   "source": [
    "viz_input"
   ]
  },
  {
   "cell_type": "code",
   "execution_count": 22,
   "metadata": {},
   "outputs": [
    {
     "data": {
      "application/vnd.jupyter.widget-view+json": {
       "model_id": "23ef2ddc1196415380b3500e0576d266",
       "version_major": 2,
       "version_minor": 0
      },
      "text/plain": [
       "Layout(align_center=True, children=[Card(children=[Html(children=['Pts selector'], tag='h2'), Flex(children=[L…"
      ]
     },
     "metadata": {},
     "output_type": "display_data"
    }
   ],
   "source": [
    "viz_pts_selector"
   ]
  },
  {
   "cell_type": "code",
   "execution_count": 23,
   "metadata": {},
   "outputs": [
    {
     "data": {
      "application/vnd.jupyter.widget-view+json": {
       "model_id": "9810a9a59c634e9c98688fccf440e245",
       "version_major": 2,
       "version_minor": 0
      },
      "text/plain": [
       "Layout(align_center=True, children=[Card(children=[Html(children=['Captions'], tag='h2'), Layout(children=[Map…"
      ]
     },
     "metadata": {},
     "output_type": "display_data"
    }
   ],
   "source": [
    "viz_captions"
   ]
  },
  {
   "cell_type": "code",
   "execution_count": 24,
   "metadata": {},
   "outputs": [
    {
     "data": {
      "application/vnd.jupyter.widget-view+json": {
       "model_id": "8e157c2b4acc4f67863bb6d19864305f",
       "version_major": 2,
       "version_minor": 0
      },
      "text/plain": [
       "Layout(align_center=True, children=[Card(children=[Html(children=['Pts map'], tag='h2'), Flex(children=[Layout…"
      ]
     },
     "metadata": {},
     "output_type": "display_data"
    }
   ],
   "source": [
    "viz_map"
   ]
  },
  {
   "cell_type": "code",
   "execution_count": null,
   "metadata": {},
   "outputs": [],
   "source": []
  },
  {
   "cell_type": "code",
   "execution_count": null,
   "metadata": {},
   "outputs": [],
   "source": []
  }
 ],
 "metadata": {
  "kernelspec": {
   "display_name": "Python 3",
   "language": "python",
   "name": "python3"
  },
  "language_info": {
   "codemirror_mode": {
    "name": "ipython",
    "version": 3
   },
   "file_extension": ".py",
   "mimetype": "text/x-python",
   "name": "python",
   "nbconvert_exporter": "python",
   "pygments_lexer": "ipython3",
   "version": "3.6.9"
  }
 },
 "nbformat": 4,
 "nbformat_minor": 4
}
