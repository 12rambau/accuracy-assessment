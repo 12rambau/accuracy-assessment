{
 "cells": [
  {
   "cell_type": "code",
   "execution_count": 1,
   "metadata": {},
   "outputs": [],
   "source": [
    "from sepal_ui import widgetFactory as wf\n",
    "from sepal_ui import widgetBinding as wb\n",
    "from sepal_ui.scripts import mapping\n",
    "\n",
    "import ipyvuetify as v\n",
    "from utils import messages as ms\n",
    "from utils import parameters as pm"
   ]
  },
  {
   "cell_type": "code",
   "execution_count": 2,
   "metadata": {},
   "outputs": [],
   "source": [
    "#input and output as mutable objects \n",
    "class Table_io:\n",
    "    def __init__(self):\n",
    "        #input \n",
    "        self.file = None\n",
    "        self.lng = None\n",
    "        self.lat = None\n",
    "        self.id = None\n",
    "        \n",
    "        #output\n",
    "        self.pts = None\n",
    "        \n",
    "tb_io = Table_io()"
   ]
  },
  {
   "cell_type": "code",
   "execution_count": 3,
   "metadata": {},
   "outputs": [],
   "source": [
    "#output to display messages\n",
    "file_output = wf.OutputWidget(ms.TABLE_INTRO)\n",
    "\n",
    "#btn \n",
    "file_btn = wf.ProcessBtn(ms.TABLE_BTN)\n",
    "\n",
    "#create the inputs\n",
    "file_select = v.Select(items=pm.getTxt(), label=ms.FILE_SELECT, v_model=None)\n",
    "\n",
    "#bind the inputs \n",
    "wb.bind(file_select, tb_io, 'file', file_output)\n",
    "\n",
    "#create a file selector \n",
    "id_ = 'file_widget'\n",
    "title = \"Select File\"\n",
    "\n",
    "file_tile = wf.Tile(\n",
    "    id_,\n",
    "    title,\n",
    "    btn=file_btn, \n",
    "    inputs=[file_select],\n",
    "    output=file_output\n",
    ")\n"
   ]
  },
  {
   "cell_type": "code",
   "execution_count": 4,
   "metadata": {},
   "outputs": [],
   "source": [
    "#tile to select columns \n",
    "\n",
    "col_output = wf.OutputWidget(ms.COL_INTRO)\n",
    "\n",
    "#btn \n",
    "col_btn = wf.ProcessBtn(ms.COL_BTN)\n",
    "\n",
    "#create the inputs\n",
    "col_lng = v.Select(items=[], label=ms.COL_LNG, v_model=None)\n",
    "col_lat = v.Select(items=[], label=ms.COL_LAT, v_model=None)\n",
    "col_id = v.Select(items=[], label=ms.COL_ID, v_model=None)\n",
    "\n",
    "#bind the inputs \n",
    "wb.bind(col_lng, tb_io, 'lng', col_output)\n",
    "wb.bind(col_lat, tb_io, 'lat', col_output)\n",
    "wb.bind(col_id, tb_io, 'id', col_output)\n",
    "\n",
    "#create a file selector \n",
    "id_ = 'file_widget'\n",
    "title = \"Select Columns\"\n",
    "\n",
    "col_tile = wf.Tile(\n",
    "    id_,\n",
    "    title,\n",
    "    btn=col_btn, \n",
    "    inputs=[col_lng, col_lat, col_id],\n",
    "    output=col_output\n",
    ")"
   ]
  },
  {
   "cell_type": "code",
   "execution_count": 5,
   "metadata": {},
   "outputs": [],
   "source": [
    "#tiles to display the points on a map\n",
    "tb_map = m = mapping.init_map()[1]\n",
    "title = 'Display points'\n",
    "tb_map_tile = wf.Tile(\n",
    "    id_,\n",
    "    title,\n",
    "    inputs=[tb_map]\n",
    ")"
   ]
  },
  {
   "cell_type": "code",
   "execution_count": 6,
   "metadata": {},
   "outputs": [],
   "source": [
    "from scripts import table as run\n",
    "from sepal_ui.scripts import utils as su\n",
    "from functools import partial"
   ]
  },
  {
   "cell_type": "code",
   "execution_count": 7,
   "metadata": {},
   "outputs": [],
   "source": [
    "#function to actualise the values of the select column tile \n",
    "def update_col(cols, values):\n",
    "    for col in cols:\n",
    "        col.items = values"
   ]
  },
  {
   "cell_type": "code",
   "execution_count": 8,
   "metadata": {},
   "outputs": [],
   "source": [
    "import pandas as pd\n",
    "\n",
    "#validate the points selection \n",
    "def load_file(widget, event, data, output, cols):\n",
    "    \n",
    "    #toggle the loading button\n",
    "    su.toggleLoading(widget)\n",
    "    \n",
    "    #load the inputs \n",
    "    file = getattr(tb_io, 'file')\n",
    "    \n",
    "    #check input\n",
    "    if not wb.checkInput(file, output, ms.NOT_A_FILE): return su.toggleLoading(widget)\n",
    "    \n",
    "    #check the file\n",
    "    error = run.isConform(file)\n",
    "    if error:\n",
    "        su.displayIO(output, error, 'error')\n",
    "        return su.toggleLoading(widget) \n",
    "    \n",
    "    #read the columns names\n",
    "    df = pd.read_csv(file)\n",
    "    update_col(cols, df.columns.tolist())\n",
    "    \n",
    "    #write the values in the output\n",
    "    su.displayIO(output, ms.READ_COLUMNS.format(', '.join(df.columns)), 'success')\n",
    "    \n",
    "    #toggle the loading button \n",
    "    su.toggleLoading(widget)\n",
    "    \n",
    "    return \n",
    "\n",
    "file_btn.on_event('click', partial(\n",
    "    load_file,\n",
    "    output = file_output,\n",
    "    cols = [col_lng, col_lat, col_id]\n",
    "))"
   ]
  },
  {
   "cell_type": "code",
   "execution_count": 9,
   "metadata": {},
   "outputs": [],
   "source": [
    "import pandas as pd \n",
    "\n",
    "def load_columns(widget, event, data, output, m):\n",
    "    \n",
    "    #toggle the loading button \n",
    "    su.toggleLoading(widget)\n",
    "    \n",
    "    #define variable \n",
    "    file = getattr(tb_io, 'file')\n",
    "    lat = getattr(tb_io, 'lat')\n",
    "    lng = getattr(tb_io, 'lng')\n",
    "    id_ = getattr(tb_io, 'id')\n",
    "    \n",
    "    \n",
    "    #check the variables \n",
    "    if not wb.checkInput(lat, output, ms.MISSING_INPUT): return su.toggleLoading(widget)\n",
    "    if not wb.checkInput(lng, output, ms.MISSING_INPUT): return su.toggleLoading(widget)\n",
    "    if not wb.checkInput(id_, output, ms.MISSING_INPUT): return su.toggleLoading(widget)\n",
    "    \n",
    "    \n",
    "    #verify that they are all unique\n",
    "    if len(set([lat, lng, id_])) != len([lat, lng, id_]): \n",
    "        su.displayIO(output, ms.REPEATED_INPUT, 'error')\n",
    "        return su.toggleLoading(widget)\n",
    "    \n",
    "    #create the pts dataframe\n",
    "    pts = pd.read_csv(file)\n",
    "    pts = pts.filter(items=[lat, lng, id_])\n",
    "    pts = pts.rename(columns={lat: 'lat', lng: 'lng', id_: 'id'})\n",
    "    \n",
    "    #load the map\n",
    "    run.setMap(pts, m) \n",
    "    \n",
    "    #set the dataframe in output \n",
    "    setattr(tb_io, 'pts', pts)\n",
    "    \n",
    "    su.displayIO(output, ms.VALID_COLUMNS, 'success')\n",
    "    \n",
    "    #toggle the loading button \n",
    "    su.toggleLoading(widget)\n",
    "    \n",
    "    return \n",
    "\n",
    "col_btn.on_event('click', partial(\n",
    "    load_columns,\n",
    "    output = col_output,\n",
    "    m = tb_map\n",
    "))"
   ]
  },
  {
   "cell_type": "code",
   "execution_count": 10,
   "metadata": {},
   "outputs": [
    {
     "data": {
      "application/vnd.jupyter.widget-view+json": {
       "model_id": "e58906e12a6e4526a4f47a16d152d596",
       "version_major": 2,
       "version_minor": 0
      },
      "text/plain": [
       "Layout(align_center=True, children=[Card(children=[Html(children=['Select File'], tag='h2'), Flex(children=[La…"
      ]
     },
     "metadata": {},
     "output_type": "display_data"
    }
   ],
   "source": [
    "file_tile"
   ]
  },
  {
   "cell_type": "code",
   "execution_count": 11,
   "metadata": {},
   "outputs": [
    {
     "data": {
      "application/vnd.jupyter.widget-view+json": {
       "model_id": "06b26193795c45e8b926ea588e502994",
       "version_major": 2,
       "version_minor": 0
      },
      "text/plain": [
       "Layout(align_center=True, children=[Card(children=[Html(children=['Select Columns'], tag='h2'), Flex(children=…"
      ]
     },
     "metadata": {},
     "output_type": "display_data"
    }
   ],
   "source": [
    "col_tile"
   ]
  },
  {
   "cell_type": "code",
   "execution_count": 12,
   "metadata": {},
   "outputs": [
    {
     "data": {
      "application/vnd.jupyter.widget-view+json": {
       "model_id": "3886da510a2e4eb1bee72f52e60bdc46",
       "version_major": 2,
       "version_minor": 0
      },
      "text/plain": [
       "Layout(align_center=True, children=[Card(children=[Html(children=['Display points'], tag='h2'), Flex(children=…"
      ]
     },
     "metadata": {},
     "output_type": "display_data"
    }
   ],
   "source": [
    "tb_map_tile"
   ]
  },
  {
   "cell_type": "code",
   "execution_count": null,
   "metadata": {},
   "outputs": [],
   "source": []
  }
 ],
 "metadata": {
  "kernelspec": {
   "display_name": "Python 3",
   "language": "python",
   "name": "python3"
  },
  "language_info": {
   "codemirror_mode": {
    "name": "ipython",
    "version": 3
   },
   "file_extension": ".py",
   "mimetype": "text/x-python",
   "name": "python",
   "nbconvert_exporter": "python",
   "pygments_lexer": "ipython3",
   "version": "3.6.9"
  }
 },
 "nbformat": 4,
 "nbformat_minor": 4
}
