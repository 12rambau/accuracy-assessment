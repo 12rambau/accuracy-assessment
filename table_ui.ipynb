{
 "cells": [
  {
   "cell_type": "code",
   "execution_count": 1,
   "metadata": {},
   "outputs": [],
   "source": [
    "from sepal_ui import widgetFactory as wf\n",
    "from sepal_ui import widgetBinding as wb\n",
    "\n",
    "import ipyvuetify as v\n",
    "from utils import messages as ms\n",
    "from utils import parameters as pm"
   ]
  },
  {
   "cell_type": "code",
   "execution_count": 2,
   "metadata": {},
   "outputs": [],
   "source": [
    "#input and output as mutable objects \n",
    "class Table_io:\n",
    "    def __init__(self):\n",
    "        #input \n",
    "        self.file = None\n",
    "        \n",
    "        #output\n",
    "        self.pts = None\n",
    "        \n",
    "tb_io = Table_io()"
   ]
  },
  {
   "cell_type": "code",
   "execution_count": 3,
   "metadata": {},
   "outputs": [],
   "source": [
    "#output to display messages\n",
    "tb_output = wf.OutputWidget(ms.TABLE_INTRO)\n",
    "\n",
    "#btn \n",
    "tb_btn = wf.ProcessBtn(ms.TABLE_BTN)\n",
    "\n",
    "#create the inputs\n",
    "tb_select = v.Select(items=pm.getTxt(), label=ms.FILE_SELECT, v_model=None)\n",
    "\n",
    "#bind the inputs \n",
    "wb.bind(tb_select, tb_io, 'file', tb_output)\n",
    "\n",
    "#create a file selector \n",
    "id_ = 'file_widget'\n",
    "title = \"Select points\"\n",
    "\n",
    "tb_tile = wf.Tile(\n",
    "    id_,\n",
    "    title,\n",
    "    btn=tb_btn, \n",
    "    inputs=[tb_select],\n",
    "    output=tb_output\n",
    ")\n"
   ]
  },
  {
   "cell_type": "code",
   "execution_count": 4,
   "metadata": {},
   "outputs": [],
   "source": [
    "#tiles to display the points on a map\n",
    "title = 'Display points'\n",
    "tb_map = wf.Tile(\n",
    "    id_,\n",
    "    title\n",
    ")"
   ]
  },
  {
   "cell_type": "code",
   "execution_count": 5,
   "metadata": {},
   "outputs": [],
   "source": [
    "#validate the points selection \n",
    "from scripts import table as run\n",
    "from sepal_ui.scripts import utils as su\n",
    "from functools import partial\n",
    "\n",
    "def process_start(widget, event, data, output, tb_map):\n",
    "    \n",
    "    #toggle the loading button\n",
    "    su.toggleLoading(widget)\n",
    "    \n",
    "    #load the inputs \n",
    "    file = getattr(tb_io, 'file')\n",
    "    \n",
    "    #check input\n",
    "    if not wb.checkInput(file, output, ms.NOT_A_FILE): return su.toggleLoading(widget)\n",
    "    \n",
    "    #check the file\n",
    "    error = run.checkFile(file)\n",
    "    if error:\n",
    "        su.displayIO(output, error, 'error')\n",
    "        return \n",
    "    \n",
    "    #create the map\n",
    "    m, pts = run.getMap(file)\n",
    "    \n",
    "    #display the map \n",
    "    tb_map.children[0].children = [tb_map.children[0].children[0], m]\n",
    "    \n",
    "    #set the output value\n",
    "    setattr(tb_io, 'pts', pts)\n",
    "    \n",
    "    #toggle the loading button \n",
    "    su.toggleLoading(widget)\n",
    "    \n",
    "    return \n",
    "\n",
    "tb_btn.on_event('click', partial(\n",
    "    process_start,\n",
    "    output = tb_output,\n",
    "    tb_map = tb_map\n",
    "))"
   ]
  },
  {
   "cell_type": "code",
   "execution_count": 6,
   "metadata": {},
   "outputs": [
    {
     "data": {
      "application/vnd.jupyter.widget-view+json": {
       "model_id": "65fb2b91ea8540be8b35fd6d4a73f149",
       "version_major": 2,
       "version_minor": 0
      },
      "text/plain": [
       "Layout(align_center=True, children=[Card(children=[Html(children=['Select points'], tag='h2'), Flex(children=[…"
      ]
     },
     "metadata": {},
     "output_type": "display_data"
    }
   ],
   "source": [
    "tb_tile"
   ]
  },
  {
   "cell_type": "code",
   "execution_count": 7,
   "metadata": {},
   "outputs": [
    {
     "data": {
      "application/vnd.jupyter.widget-view+json": {
       "model_id": "01a663858ce14349ad807ae83ae7fb59",
       "version_major": 2,
       "version_minor": 0
      },
      "text/plain": [
       "Layout(align_center=True, children=[Card(children=[Html(children=['Display points'], tag='h2'), Flex(children=…"
      ]
     },
     "metadata": {},
     "output_type": "display_data"
    }
   ],
   "source": [
    "tb_map"
   ]
  },
  {
   "cell_type": "code",
   "execution_count": 9,
   "metadata": {},
   "outputs": [
    {
     "data": {
      "text/plain": [
       "'/home/prambaud/test_pts.txt'"
      ]
     },
     "execution_count": 9,
     "metadata": {},
     "output_type": "execute_result"
    }
   ],
   "source": [
    "tb_io.file"
   ]
  },
  {
   "cell_type": "code",
   "execution_count": null,
   "metadata": {},
   "outputs": [],
   "source": []
  }
 ],
 "metadata": {
  "kernelspec": {
   "display_name": "Python 3",
   "language": "python",
   "name": "python3"
  },
  "language_info": {
   "codemirror_mode": {
    "name": "ipython",
    "version": 3
   },
   "file_extension": ".py",
   "mimetype": "text/x-python",
   "name": "python",
   "nbconvert_exporter": "python",
   "pygments_lexer": "ipython3",
   "version": "3.6.9"
  }
 },
 "nbformat": 4,
 "nbformat_minor": 4
}
