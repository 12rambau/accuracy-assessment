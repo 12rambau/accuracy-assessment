{
 "cells": [
  {
   "cell_type": "code",
   "execution_count": null,
   "metadata": {},
   "outputs": [],
   "source": [
    "from sepal_ui import widgetFactory as wf\n",
    "from sepal_ui import widgetBinding as wb\n",
    "from sepal_ui.scripts import mapping\n",
    "\n",
    "import ipyvuetify as v\n",
    "from utils import messages as ms\n",
    "from utils import parameters as pm"
   ]
  },
  {
   "cell_type": "code",
   "execution_count": null,
   "metadata": {},
   "outputs": [],
   "source": [
    "#input and output as mutable objects \n",
    "class Table_io:\n",
    "    def __init__(self):\n",
    "        #input \n",
    "        self.file = None\n",
    "        \n",
    "        #output\n",
    "        self.pts = None\n",
    "        \n",
    "tb_io = Table_io()"
   ]
  },
  {
   "cell_type": "code",
   "execution_count": null,
   "metadata": {},
   "outputs": [],
   "source": [
    "#output to display messages\n",
    "tb_output = wf.OutputWidget(ms.TABLE_INTRO)\n",
    "\n",
    "#btn \n",
    "tb_btn = wf.ProcessBtn(ms.TABLE_BTN)\n",
    "\n",
    "#create the inputs\n",
    "tb_select = v.Select(items=pm.getTxt(), label=ms.FILE_SELECT, v_model=None)\n",
    "\n",
    "#bind the inputs \n",
    "wb.bind(tb_select, tb_io, 'file', tb_output)\n",
    "\n",
    "#create a file selector \n",
    "id_ = 'file_widget'\n",
    "title = \"Select points\"\n",
    "\n",
    "tb_tile = wf.Tile(\n",
    "    id_,\n",
    "    title,\n",
    "    btn=tb_btn, \n",
    "    inputs=[tb_select],\n",
    "    output=tb_output\n",
    ")\n"
   ]
  },
  {
   "cell_type": "code",
   "execution_count": null,
   "metadata": {},
   "outputs": [],
   "source": [
    "#tiles to display the points on a map\n",
    "tb_map = m = mapping.init_map()[1]\n",
    "title = 'Display points'\n",
    "tb_map_tile = wf.Tile(\n",
    "    id_,\n",
    "    title,\n",
    "    inputs=[tb_map]\n",
    ")"
   ]
  },
  {
   "cell_type": "code",
   "execution_count": null,
   "metadata": {},
   "outputs": [],
   "source": [
    "#validate the points selection \n",
    "from scripts import table as run\n",
    "from sepal_ui.scripts import utils as su\n",
    "from functools import partial\n",
    "\n",
    "def process_start(widget, event, data, output, m):\n",
    "    \n",
    "    #toggle the loading button\n",
    "    su.toggleLoading(widget)\n",
    "    \n",
    "    #load the inputs \n",
    "    file = getattr(tb_io, 'file')\n",
    "    \n",
    "    #check input\n",
    "    if not wb.checkInput(file, output, ms.NOT_A_FILE): return su.toggleLoading(widget)\n",
    "    \n",
    "    #check the file\n",
    "    error = run.isConform(file)\n",
    "    if error:\n",
    "        su.displayIO(output, error, 'error')\n",
    "        return \n",
    "    \n",
    "    #display the map\n",
    "    pts = run.setMap(file, m)  \n",
    "    \n",
    "    #set the output value\n",
    "    setattr(tb_io, 'pts', pts)\n",
    "    \n",
    "    #toggle the loading button \n",
    "    su.toggleLoading(widget)\n",
    "    \n",
    "    return \n",
    "\n",
    "tb_btn.on_event('click', partial(\n",
    "    process_start,\n",
    "    output = tb_output,\n",
    "    m = tb_map\n",
    "))"
   ]
  },
  {
   "cell_type": "code",
   "execution_count": null,
   "metadata": {},
   "outputs": [],
   "source": [
    "tb_tile"
   ]
  },
  {
   "cell_type": "code",
   "execution_count": null,
   "metadata": {},
   "outputs": [],
   "source": [
    "tb_map_tile"
   ]
  },
  {
   "cell_type": "code",
   "execution_count": null,
   "metadata": {},
   "outputs": [],
   "source": []
  }
 ],
 "metadata": {
  "kernelspec": {
   "display_name": "Python 3",
   "language": "python",
   "name": "python3"
  },
  "language_info": {
   "codemirror_mode": {
    "name": "ipython",
    "version": 3
   },
   "file_extension": ".py",
   "mimetype": "text/x-python",
   "name": "python",
   "nbconvert_exporter": "python",
   "pygments_lexer": "ipython3",
   "version": "3.6.9"
  }
 },
 "nbformat": 4,
 "nbformat_minor": 4
}
