{
 "cells": [
  {
   "cell_type": "code",
   "execution_count": 1,
   "metadata": {},
   "outputs": [],
   "source": [
    "from sepal_ui import widgetFactory as wf\n",
    "from sepal_ui import widgetBinding as wb\n",
    "from sepal_ui.scripts import mapping\n",
    "\n",
    "import ipyvuetify as v\n",
    "from utils import messages as ms\n",
    "from utils import parameters as pm"
   ]
  },
  {
   "cell_type": "code",
   "execution_count": 2,
   "metadata": {},
   "outputs": [],
   "source": [
    "#input and output as mutable objects \n",
    "class Table_io:\n",
    "    def __init__(self):\n",
    "        #input \n",
    "        self.file = None\n",
    "        self.lng = None\n",
    "        self.lat = None\n",
    "        self.id = None\n",
    "        \n",
    "        #output\n",
    "        self.pts = None\n",
    "        \n",
    "tb_io = Table_io()"
   ]
  },
  {
   "cell_type": "code",
   "execution_count": 3,
   "metadata": {},
   "outputs": [],
   "source": [
    "#output to display messages\n",
    "file_output = wf.OutputWidget(ms.TABLE_INTRO)\n",
    "\n",
    "#btn \n",
    "file_btn = wf.ProcessBtn(ms.TABLE_BTN)\n",
    "\n",
    "#create the inputs\n",
    "file_select = v.Select(items=pm.getTxt(), label=ms.FILE_SELECT, v_model=None)\n",
    "\n",
    "#bind the inputs \n",
    "wb.bind(file_select, tb_io, 'file', file_output)\n",
    "\n",
    "#create a file selector \n",
    "id_ = 'file_widget'\n",
    "title = \"Select File\"\n",
    "\n",
    "file_tile = wf.Tile(\n",
    "    id_,\n",
    "    title,\n",
    "    btn=file_btn, \n",
    "    inputs=[file_select],\n",
    "    output=file_output\n",
    ")\n"
   ]
  },
  {
   "cell_type": "code",
   "execution_count": 4,
   "metadata": {},
   "outputs": [],
   "source": [
    "#tile to select columns \n",
    "\n",
    "col_output = wf.OutputWidget(ms.COL_INTRO)\n",
    "\n",
    "#btn \n",
    "col_btn = wf.ProcessBtn(ms.COL_BTN)\n",
    "\n",
    "#create the inputs\n",
    "col_lng = v.Select(items=[], label=ms.COL_LNG, v_model=None)\n",
    "col_lat = v.Select(items=[], label=ms.COL_LAT, v_model=None)\n",
    "col_id = v.Select(items=[], label=ms.COL_ID, v_model=None)\n",
    "\n",
    "#bind the inputs \n",
    "wb.bind(col_lng, tb_io, 'lng', col_output)\n",
    "wb.bind(col_lat, tb_io, 'lat', col_output)\n",
    "wb.bind(col_id, tb_io, 'id', col_output)\n",
    "\n",
    "#create a file selector \n",
    "id_ = 'file_widget'\n",
    "title = \"Select Columns\"\n",
    "\n",
    "col_tile = wf.Tile(\n",
    "    id_,\n",
    "    title,\n",
    "    btn=col_btn, \n",
    "    inputs=[col_lng, col_lat, col_id],\n",
    "    output=col_output\n",
    ")"
   ]
  },
  {
   "cell_type": "code",
   "execution_count": 5,
   "metadata": {},
   "outputs": [],
   "source": [
    "#tiles to display the points on a map\n",
    "tb_map = m = mapping.init_map()[1]\n",
    "title = 'Display points'\n",
    "tb_map_tile = wf.Tile(\n",
    "    id_,\n",
    "    title,\n",
    "    inputs=[tb_map]\n",
    ")"
   ]
  },
  {
   "cell_type": "code",
   "execution_count": 6,
   "metadata": {},
   "outputs": [],
   "source": [
    "from scripts import table as run\n",
    "from sepal_ui.scripts import utils as su\n",
    "from functools import partial"
   ]
  },
  {
   "cell_type": "code",
   "execution_count": 7,
   "metadata": {},
   "outputs": [],
   "source": [
    "#function to actualise the values of the select column tile \n",
    "def update_col(cols, values):\n",
    "    for col in cols:\n",
    "        col.items = values"
   ]
  },
  {
   "cell_type": "code",
   "execution_count": 8,
   "metadata": {},
   "outputs": [],
   "source": [
    "import pandas as pd\n",
    "\n",
    "#validate the points selection \n",
    "def load_file(widget, event, data, output, cols):\n",
    "    \n",
    "    #toggle the loading button\n",
    "    su.toggleLoading(widget)\n",
    "    \n",
    "    #load the inputs \n",
    "    file = getattr(tb_io, 'file')\n",
    "    \n",
    "    #check input\n",
    "    if not wb.checkInput(file, output, ms.NOT_A_FILE): return su.toggleLoading(widget)\n",
    "    \n",
    "    #check the file\n",
    "    error = run.isConform(file)\n",
    "    if error:\n",
    "        su.displayIO(output, error, 'error')\n",
    "        return su.toggleLoading(widget) \n",
    "    \n",
    "    #read the columns names\n",
    "    df = pd.read_csv(file)\n",
    "    update_col(cols, df.columns.tolist())\n",
    "    \n",
    "    #write the values in the output\n",
    "    su.displayIO(output, ms.READ_COLUMNS.format(', '.join(df.columns)), 'success')\n",
    "    \n",
    "    #toggle the loading button \n",
    "    su.toggleLoading(widget)\n",
    "    \n",
    "    return \n",
    "\n",
    "file_btn.on_event('click', partial(\n",
    "    load_file,\n",
    "    output = file_output,\n",
    "    cols = [col_lng, col_lat, col_id]\n",
    "))"
   ]
  },
  {
   "cell_type": "code",
   "execution_count": 9,
   "metadata": {},
   "outputs": [],
   "source": [
    "import pandas as pd \n",
    "\n",
    "def load_columns(widget, event, data, output, m):\n",
    "    \n",
    "    #toggle the loading button \n",
    "    su.toggleLoading(widget)\n",
    "    \n",
    "    #define variable \n",
    "    file = getattr(tb_io, 'file')\n",
    "    lat = getattr(tb_io, 'lat')\n",
    "    lng = getattr(tb_io, 'lng')\n",
    "    id_ = getattr(tb_io, 'id')\n",
    "    \n",
    "    \n",
    "    #check the variables \n",
    "    if not wb.checkInput(lat, output, ms.MISSING_INPUT): return su.toggleLoading(widget)\n",
    "    if not wb.checkInput(lng, output, ms.MISSING_INPUT): return su.toggleLoading(widget)\n",
    "    if not wb.checkInput(id_, output, ms.MISSING_INPUT): return su.toggleLoading(widget)\n",
    "    \n",
    "    \n",
    "    #verify that they are all unique\n",
    "    if len(set([lat, lng, id_])) != len([lat, lng, id_]): \n",
    "        su.displayIO(output, ms.REPEATED_INPUT, 'error')\n",
    "        return su.toggleLoading(widget)\n",
    "    \n",
    "    #create the pts dataframe\n",
    "    pts = pd.read_csv(file)\n",
    "    pts = pts.filter(items=[lat, lng, id_])\n",
    "    pts = pts.rename(columns={lat: 'lat', lng: 'lng', id_: 'id'})\n",
    "    \n",
    "    #load the map\n",
    "    run.setMap(pts, m) \n",
    "    \n",
    "    #set the dataframe in output \n",
    "    setattr(tb_io, 'pts', pts)\n",
    "    \n",
    "    su.displayIO(output, ms.VALID_COLUMNS, 'success')\n",
    "    \n",
    "    #toggle the loading button \n",
    "    su.toggleLoading(widget)\n",
    "    \n",
    "    return \n",
    "\n",
    "col_btn.on_event('click', partial(\n",
    "    load_columns,\n",
    "    output = col_output,\n",
    "    m = tb_map\n",
    "))"
   ]
  },
  {
   "cell_type": "code",
   "execution_count": 10,
   "metadata": {},
   "outputs": [
    {
     "data": {
      "application/vnd.jupyter.widget-view+json": {
       "model_id": "116bdcc6fd6343c3b6bbbf57c426974f",
       "version_major": 2,
       "version_minor": 0
      },
      "text/plain": [
       "Layout(align_center=True, children=[Card(children=[Html(children=['Select File'], tag='h2'), Flex(children=[La…"
      ]
     },
     "metadata": {},
     "output_type": "display_data"
    }
   ],
   "source": [
    "file_tile"
   ]
  },
  {
   "cell_type": "code",
   "execution_count": 11,
   "metadata": {},
   "outputs": [
    {
     "data": {
      "application/vnd.jupyter.widget-view+json": {
       "model_id": "1202070ef32c427eb3d3f6d9353b8aef",
       "version_major": 2,
       "version_minor": 0
      },
      "text/plain": [
       "Layout(align_center=True, children=[Card(children=[Html(children=['Select Columns'], tag='h2'), Flex(children=…"
      ]
     },
     "metadata": {},
     "output_type": "display_data"
    },
    {
     "ename": "ValueError",
     "evalue": "DataFrame constructor not properly called!",
     "output_type": "error",
     "traceback": [
      "\u001b[0;31m---------------------------------------------------------------------------\u001b[0m",
      "\u001b[0;31mValueError\u001b[0m                                Traceback (most recent call last)",
      "\u001b[0;32m<ipython-input-9-ebe417a89446>\u001b[0m in \u001b[0;36mload_columns\u001b[0;34m(widget, event, data, output, m)\u001b[0m\n\u001b[1;32m     25\u001b[0m \u001b[0;34m\u001b[0m\u001b[0m\n\u001b[1;32m     26\u001b[0m     \u001b[0;31m#create the pts dataframe\u001b[0m\u001b[0;34m\u001b[0m\u001b[0;34m\u001b[0m\u001b[0;34m\u001b[0m\u001b[0m\n\u001b[0;32m---> 27\u001b[0;31m     \u001b[0mpts\u001b[0m \u001b[0;34m=\u001b[0m \u001b[0mpd\u001b[0m\u001b[0;34m.\u001b[0m\u001b[0mDataFrame\u001b[0m\u001b[0;34m(\u001b[0m\u001b[0mfile\u001b[0m\u001b[0;34m)\u001b[0m\u001b[0;34m\u001b[0m\u001b[0;34m\u001b[0m\u001b[0m\n\u001b[0m\u001b[1;32m     28\u001b[0m     \u001b[0mpts\u001b[0m \u001b[0;34m=\u001b[0m \u001b[0mpts\u001b[0m\u001b[0;34m.\u001b[0m\u001b[0mfilter\u001b[0m\u001b[0;34m(\u001b[0m\u001b[0mitems\u001b[0m\u001b[0;34m=\u001b[0m\u001b[0;34m[\u001b[0m\u001b[0mlat\u001b[0m\u001b[0;34m,\u001b[0m \u001b[0mlng\u001b[0m\u001b[0;34m,\u001b[0m \u001b[0mid_\u001b[0m\u001b[0;34m]\u001b[0m\u001b[0;34m)\u001b[0m\u001b[0;34m\u001b[0m\u001b[0;34m\u001b[0m\u001b[0m\n\u001b[1;32m     29\u001b[0m     \u001b[0mpts\u001b[0m \u001b[0;34m=\u001b[0m \u001b[0mpts\u001b[0m\u001b[0;34m.\u001b[0m\u001b[0mrename\u001b[0m\u001b[0;34m(\u001b[0m\u001b[0mcolumns\u001b[0m\u001b[0;34m=\u001b[0m\u001b[0;34m{\u001b[0m\u001b[0mlat\u001b[0m\u001b[0;34m:\u001b[0m \u001b[0;34m'lat'\u001b[0m\u001b[0;34m,\u001b[0m \u001b[0mlng\u001b[0m\u001b[0;34m:\u001b[0m \u001b[0;34m'lng'\u001b[0m\u001b[0;34m,\u001b[0m \u001b[0mid_\u001b[0m\u001b[0;34m:\u001b[0m \u001b[0;34m'id'\u001b[0m\u001b[0;34m}\u001b[0m\u001b[0;34m)\u001b[0m\u001b[0;34m\u001b[0m\u001b[0;34m\u001b[0m\u001b[0m\n",
      "\u001b[0;32m/usr/local/lib/python3.6/dist-packages/pandas/core/frame.py\u001b[0m in \u001b[0;36m__init__\u001b[0;34m(self, data, index, columns, dtype, copy)\u001b[0m\n\u001b[1;32m    526\u001b[0m         \u001b[0;32melse\u001b[0m\u001b[0;34m:\u001b[0m\u001b[0;34m\u001b[0m\u001b[0;34m\u001b[0m\u001b[0m\n\u001b[1;32m    527\u001b[0m             \u001b[0;32mif\u001b[0m \u001b[0mindex\u001b[0m \u001b[0;32mis\u001b[0m \u001b[0;32mNone\u001b[0m \u001b[0;32mor\u001b[0m \u001b[0mcolumns\u001b[0m \u001b[0;32mis\u001b[0m \u001b[0;32mNone\u001b[0m\u001b[0;34m:\u001b[0m\u001b[0;34m\u001b[0m\u001b[0;34m\u001b[0m\u001b[0m\n\u001b[0;32m--> 528\u001b[0;31m                 \u001b[0;32mraise\u001b[0m \u001b[0mValueError\u001b[0m\u001b[0;34m(\u001b[0m\u001b[0;34m\"DataFrame constructor not properly called!\"\u001b[0m\u001b[0;34m)\u001b[0m\u001b[0;34m\u001b[0m\u001b[0;34m\u001b[0m\u001b[0m\n\u001b[0m\u001b[1;32m    529\u001b[0m \u001b[0;34m\u001b[0m\u001b[0m\n\u001b[1;32m    530\u001b[0m             \u001b[0;32mif\u001b[0m \u001b[0;32mnot\u001b[0m \u001b[0mdtype\u001b[0m\u001b[0;34m:\u001b[0m\u001b[0;34m\u001b[0m\u001b[0;34m\u001b[0m\u001b[0m\n",
      "\u001b[0;31mValueError\u001b[0m: DataFrame constructor not properly called!"
     ]
    }
   ],
   "source": [
    "col_tile"
   ]
  },
  {
   "cell_type": "code",
   "execution_count": 12,
   "metadata": {},
   "outputs": [
    {
     "data": {
      "application/vnd.jupyter.widget-view+json": {
       "model_id": "e03917ab99ab41eabf6e09b5a92ff8be",
       "version_major": 2,
       "version_minor": 0
      },
      "text/plain": [
       "Layout(align_center=True, children=[Card(children=[Html(children=['Display points'], tag='h2'), Flex(children=…"
      ]
     },
     "metadata": {},
     "output_type": "display_data"
    }
   ],
   "source": [
    "tb_map_tile"
   ]
  },
  {
   "cell_type": "code",
   "execution_count": null,
   "metadata": {},
   "outputs": [],
   "source": []
  }
 ],
 "metadata": {
  "kernelspec": {
   "display_name": "Python 3",
   "language": "python",
   "name": "python3"
  },
  "language_info": {
   "codemirror_mode": {
    "name": "ipython",
    "version": 3
   },
   "file_extension": ".py",
   "mimetype": "text/x-python",
   "name": "python",
   "nbconvert_exporter": "python",
   "pygments_lexer": "ipython3",
   "version": "3.6.9"
  }
 },
 "nbformat": 4,
 "nbformat_minor": 4
}
